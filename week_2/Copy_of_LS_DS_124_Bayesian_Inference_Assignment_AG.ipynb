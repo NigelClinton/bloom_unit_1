{
  "nbformat": 4,
  "nbformat_minor": 0,
  "metadata": {
    "colab": {
      "name": "Copy of LS_DS_124_Bayesian_Inference_Assignment_AG.ipynb",
      "provenance": [],
      "collapsed_sections": []
    },
    "kernelspec": {
      "display_name": "Python 3",
      "language": "python",
      "name": "python3"
    },
    "language_info": {
      "codemirror_mode": {
        "name": "ipython",
        "version": 3
      },
      "file_extension": ".py",
      "mimetype": "text/x-python",
      "name": "python",
      "nbconvert_exporter": "python",
      "pygments_lexer": "ipython3",
      "version": "3.7.4"
    }
  },
  "cells": [
    {
      "cell_type": "markdown",
      "metadata": {
        "id": "tbTcm3Wg0-mA"
      },
      "source": [
        "## Autograded Notebook (Canvas & CodeGrade)\n",
        "\n",
        "This notebook will be automatically graded. It is designed to test your answers and award points for the correct answers. Following the instructions for each Task carefully.\n",
        "\n",
        "### Instructions\n",
        "\n",
        "* **Download this notebook** as you would any other ipynb file\n",
        "* **Upload** to Google Colab or work locally (if you have that set-up)\n",
        "* **Delete `raise NotImplementedError()`**\n",
        "* Write your code in the `# YOUR CODE HERE` space\n",
        "* **Execute** the Test cells that contain `assert` statements - these help you check your work (others contain hidden tests that will be checked when you submit through Canvas)\n",
        "* **Save** your notebook when you are finished\n",
        "* **Download** as a `ipynb` file (if working in Colab)\n",
        "* **Upload** your complete notebook to Canvas (there will be additional instructions in Slack and/or Canvas)"
      ]
    },
    {
      "cell_type": "markdown",
      "metadata": {
        "id": "H7OLbevlbd_Z"
      },
      "source": [
        "# Lambda School Data Science - Unit 1 Sprint 2 Module 4\n",
        "\n",
        "## Module Project: Introduction to Bayesian Inference\n",
        "\n",
        "\n",
        "\n",
        "#### Total notebook points: 12"
      ]
    },
    {
      "cell_type": "markdown",
      "metadata": {
        "id": "qYfsB9myfV0l"
      },
      "source": [
        "## Introduction\n",
        "\n",
        "In this project, we're going to practice calculating conditional probabilities. You will use Python and the pandas cross tabulation method to look at various survival scenarios. After you complete the Titanic calculations, we'll visit the Harry Potter Universe and apply what we learned to the Sorting Hat situation at Hogwarts (a detailed description of the problem is provided - you don't need to have any familiarity with the Harry Potter books or movies). \n",
        "\n",
        "### Data set\n",
        "\n",
        "We'll be working with the Titanic dataset for this Module Project. It is available in various locations but the data at the URL provided is what we'll use today."
      ]
    },
    {
      "cell_type": "markdown",
      "metadata": {
        "id": "iliKwAvIKbyD"
      },
      "source": [
        "### Warmup Question\n",
        "\n",
        "In your own words, summarize the difference between Bayesian and Frequentist statistics.\n",
        "\n",
        "ANSWER:"
      ]
    },
    {
      "cell_type": "markdown",
      "metadata": {
        "id": "db4m0HhBCMhR"
      },
      "source": [
        "## Part A\n",
        "\n",
        "### Conditional Probabilities \n",
        "\n",
        "For Tasks 1 - 8 use the following information:\n",
        "\n",
        "Let **A** be the event of surviving the sinking of the Titanic and **B** be the event of being a 1st class passenger."
      ]
    },
    {
      "cell_type": "markdown",
      "metadata": {
        "id": "bvFf3ycYfV0m"
      },
      "source": [
        "**Task 1** - Load the data\n",
        "\n",
        "As we usually begin, let's load the data! The URL has been provided.\n",
        "\n",
        "* load your CSV file into a DataFrame named `df`"
      ]
    },
    {
      "cell_type": "code",
      "metadata": {
        "deletable": false,
        "id": "qXaf5leo7CHr",
        "nbgrader": {
          "cell_type": "code",
          "checksum": "03a6b6486122907200ef39a158aba4fc",
          "grade": false,
          "grade_id": "cell-282a5c44db0c5259",
          "locked": false,
          "schema_version": 3,
          "solution": true,
          "task": false
        },
        "colab": {
          "base_uri": "https://localhost:8080/",
          "height": 189
        },
        "outputId": "77095054-e2d8-439f-cd4e-eb7edfd8a568"
      },
      "source": [
        "# Task 1\n",
        "\n",
        "import pandas as pd\n",
        "import numpy as np\n",
        "\n",
        "data_url = 'https://raw.githubusercontent.com/LambdaSchool/data-science-practice-datasets/main/unit_1/Titanic/Titanic.csv'\n",
        "# YOUR CODE HERE\n",
        "\n",
        "df = pd.read_csv(data_url)\n",
        "\n",
        "# View the DataFrame\n",
        "df.head()"
      ],
      "execution_count": null,
      "outputs": [
        {
          "output_type": "execute_result",
          "data": {
            "text/html": [
              "<div>\n",
              "<style scoped>\n",
              "    .dataframe tbody tr th:only-of-type {\n",
              "        vertical-align: middle;\n",
              "    }\n",
              "\n",
              "    .dataframe tbody tr th {\n",
              "        vertical-align: top;\n",
              "    }\n",
              "\n",
              "    .dataframe thead th {\n",
              "        text-align: right;\n",
              "    }\n",
              "</style>\n",
              "<table border=\"1\" class=\"dataframe\">\n",
              "  <thead>\n",
              "    <tr style=\"text-align: right;\">\n",
              "      <th></th>\n",
              "      <th>Survived</th>\n",
              "      <th>Pclass</th>\n",
              "      <th>Name</th>\n",
              "      <th>Sex</th>\n",
              "      <th>Age</th>\n",
              "      <th>Siblings/Spouses_Aboard</th>\n",
              "      <th>Parents/Children_Aboard</th>\n",
              "      <th>Fare</th>\n",
              "    </tr>\n",
              "  </thead>\n",
              "  <tbody>\n",
              "    <tr>\n",
              "      <th>0</th>\n",
              "      <td>0</td>\n",
              "      <td>3</td>\n",
              "      <td>Mr. Owen Harris Braund</td>\n",
              "      <td>male</td>\n",
              "      <td>22.0</td>\n",
              "      <td>1</td>\n",
              "      <td>0</td>\n",
              "      <td>7.2500</td>\n",
              "    </tr>\n",
              "    <tr>\n",
              "      <th>1</th>\n",
              "      <td>1</td>\n",
              "      <td>1</td>\n",
              "      <td>Mrs. John Bradley (Florence Briggs Thayer) Cum...</td>\n",
              "      <td>female</td>\n",
              "      <td>38.0</td>\n",
              "      <td>1</td>\n",
              "      <td>0</td>\n",
              "      <td>71.2833</td>\n",
              "    </tr>\n",
              "    <tr>\n",
              "      <th>2</th>\n",
              "      <td>1</td>\n",
              "      <td>3</td>\n",
              "      <td>Miss. Laina Heikkinen</td>\n",
              "      <td>female</td>\n",
              "      <td>26.0</td>\n",
              "      <td>0</td>\n",
              "      <td>0</td>\n",
              "      <td>7.9250</td>\n",
              "    </tr>\n",
              "    <tr>\n",
              "      <th>3</th>\n",
              "      <td>1</td>\n",
              "      <td>1</td>\n",
              "      <td>Mrs. Jacques Heath (Lily May Peel) Futrelle</td>\n",
              "      <td>female</td>\n",
              "      <td>35.0</td>\n",
              "      <td>1</td>\n",
              "      <td>0</td>\n",
              "      <td>53.1000</td>\n",
              "    </tr>\n",
              "    <tr>\n",
              "      <th>4</th>\n",
              "      <td>0</td>\n",
              "      <td>3</td>\n",
              "      <td>Mr. William Henry Allen</td>\n",
              "      <td>male</td>\n",
              "      <td>35.0</td>\n",
              "      <td>0</td>\n",
              "      <td>0</td>\n",
              "      <td>8.0500</td>\n",
              "    </tr>\n",
              "  </tbody>\n",
              "</table>\n",
              "</div>"
            ],
            "text/plain": [
              "   Survived  Pclass  ... Parents/Children_Aboard     Fare\n",
              "0         0       3  ...                       0   7.2500\n",
              "1         1       1  ...                       0  71.2833\n",
              "2         1       3  ...                       0   7.9250\n",
              "3         1       1  ...                       0  53.1000\n",
              "4         0       3  ...                       0   8.0500\n",
              "\n",
              "[5 rows x 8 columns]"
            ]
          },
          "metadata": {
            "tags": []
          },
          "execution_count": 2
        }
      ]
    },
    {
      "cell_type": "markdown",
      "metadata": {
        "id": "vNlDUCUdfV0o"
      },
      "source": [
        "**Task 1 - Test**"
      ]
    },
    {
      "cell_type": "code",
      "metadata": {
        "deletable": false,
        "editable": false,
        "id": "KS4QNZcIfV0o",
        "nbgrader": {
          "cell_type": "code",
          "checksum": "9d5903bf9f6e73bffaeb7880b33d0a38",
          "grade": true,
          "grade_id": "cell-dfb792f5ef91f211",
          "locked": true,
          "points": 1,
          "schema_version": 3,
          "solution": false,
          "task": false
        }
      },
      "source": [
        "# Task 1 - Test\n",
        "\n",
        "assert isinstance(df, pd.DataFrame), 'Have you created a DataFrame named `df`?'\n",
        "assert len(df) == 887\n"
      ],
      "execution_count": null,
      "outputs": []
    },
    {
      "cell_type": "markdown",
      "metadata": {
        "deletable": false,
        "editable": false,
        "id": "4shP8MH8CbrZ",
        "nbgrader": {
          "cell_type": "markdown",
          "checksum": "b54a79dc51bd50ced7d03bb1370aa9d3",
          "grade": false,
          "grade_id": "cell-82dac32bcc1fa69b",
          "locked": true,
          "schema_version": 3,
          "solution": false,
          "task": false
        }
      },
      "source": [
        "**Task 2** - Survival probability\n",
        "\n",
        "We'll start by calculating the probability of surviving; we'll write the probability as P(A)\n",
        "\n",
        "* calculate the cross tabulation for the `Pclass` and `Survived` variables and assign it to `cross_tab`.  Make sure to include the table margins.\n",
        "* using the cross tabulation results, calculate P(A) and assign it to the variable `p_a`\n",
        "\n",
        "*Hint: we write the probability of an event using a decimal, not a percent.*"
      ]
    },
    {
      "cell_type": "code",
      "metadata": {
        "deletable": false,
        "id": "iDi0eFr1x-v_",
        "nbgrader": {
          "cell_type": "code",
          "checksum": "fc9b374ec61db6b520f49f75393fb99e",
          "grade": false,
          "grade_id": "cell-800eb0784f0daf9f",
          "locked": false,
          "schema_version": 3,
          "solution": true,
          "task": false
        },
        "colab": {
          "base_uri": "https://localhost:8080/"
        },
        "outputId": "9082cf03-4f69-463a-c63a-38e196d576c1"
      },
      "source": [
        "# Task 2\n",
        "\n",
        "# YOUR CODE HERE\n",
        "\n",
        "cross_tab = pd.crosstab(df['Pclass'], df['Survived'], margins=True, normalize=True)\n",
        "cross_tab_two = pd.crosstab(df['Pclass'], df['Survived'], margins=True)\n",
        "# p_a = cross_tab[1][1]\n",
        "\n",
        "p_a = cross_tab[1]['All'] / cross_tab ['All']['All']\n",
        "\n",
        "\n",
        "print('The value of P(A) is:', p_a)\n",
        "print('----------------------------------------')\n",
        "print(cross_tab_two)\n",
        "print('----------------------------------------')\n",
        "print(cross_tab)\n",
        "print('----------------------------------------')"
      ],
      "execution_count": null,
      "outputs": [
        {
          "output_type": "stream",
          "text": [
            "The value of P(A) is: 0.3855693348365276\n",
            "----------------------------------------\n",
            "Survived    0    1  All\n",
            "Pclass                 \n",
            "1          80  136  216\n",
            "2          97   87  184\n",
            "3         368  119  487\n",
            "All       545  342  887\n",
            "----------------------------------------\n",
            "Survived         0         1       All\n",
            "Pclass                                \n",
            "1         0.090192  0.153326  0.243517\n",
            "2         0.109357  0.098083  0.207441\n",
            "3         0.414882  0.134160  0.549042\n",
            "All       0.614431  0.385569  1.000000\n",
            "----------------------------------------\n"
          ],
          "name": "stdout"
        }
      ]
    },
    {
      "cell_type": "markdown",
      "metadata": {
        "id": "gh2JCwr7fV0p"
      },
      "source": [
        "**Task 2 - Test**"
      ]
    },
    {
      "cell_type": "code",
      "metadata": {
        "deletable": false,
        "editable": false,
        "id": "7rqNlPJPfV0p",
        "nbgrader": {
          "cell_type": "code",
          "checksum": "7297dc09e6f8fa72c0a40e87ed2a3148",
          "grade": true,
          "grade_id": "cell-c4fbdfeb780e3bd6",
          "locked": true,
          "points": 1,
          "schema_version": 3,
          "solution": false,
          "task": false
        }
      },
      "source": [
        "# Task 2 - Test\n",
        "assert isinstance(cross_tab, pd.DataFrame), 'Did you create the cross tabulation DataFrame?'\n",
        "assert cross_tab.shape == (4,3), 'Did you remember to include the margins?'\n"
      ],
      "execution_count": null,
      "outputs": []
    },
    {
      "cell_type": "markdown",
      "metadata": {
        "id": "ZV_UsohfC6r_"
      },
      "source": [
        "**Task 3** - First class probability\n",
        "\n",
        "Next we'll calculate the probability of being a First Class passenger; we'll write this probability as P(B)\n",
        "\n",
        "* using the cross tabulation results, calculate P(B) and assign it to the variable `p_b`\n",
        "\n",
        "*Hint: we write the probability of an event using a decimal, not a percent.*"
      ]
    },
    {
      "cell_type": "code",
      "metadata": {
        "deletable": false,
        "id": "5XUHyDlNfV0q",
        "nbgrader": {
          "cell_type": "code",
          "checksum": "a02d6adcf891f01d5c1235e3d84a7ab9",
          "grade": false,
          "grade_id": "cell-f4bd227006d12bc1",
          "locked": false,
          "schema_version": 3,
          "solution": true,
          "task": false
        },
        "colab": {
          "base_uri": "https://localhost:8080/"
        },
        "outputId": "a378ce8c-3c46-4744-fe58-19b30ae03ec7"
      },
      "source": [
        "# Task 3\n",
        "\n",
        "# YOUR CODE HERE\n",
        "\n",
        "p_b = cross_tab['All'][1] / cross_tab ['All']['All']\n",
        "\n",
        "print('The value of P(B) is:', p_b)\n",
        "print('----------------------------------------')\n",
        "print(cross_tab)\n",
        "print('----------------------------------------')\n",
        "print(cross_tab_two)\n",
        "print('----------------------------------------')"
      ],
      "execution_count": null,
      "outputs": [
        {
          "output_type": "stream",
          "text": [
            "The value of P(B) is: 0.24351747463359638\n",
            "----------------------------------------\n",
            "Survived         0         1       All\n",
            "Pclass                                \n",
            "1         0.090192  0.153326  0.243517\n",
            "2         0.109357  0.098083  0.207441\n",
            "3         0.414882  0.134160  0.549042\n",
            "All       0.614431  0.385569  1.000000\n",
            "----------------------------------------\n",
            "Survived    0    1  All\n",
            "Pclass                 \n",
            "1          80  136  216\n",
            "2          97   87  184\n",
            "3         368  119  487\n",
            "All       545  342  887\n",
            "----------------------------------------\n"
          ],
          "name": "stdout"
        }
      ]
    },
    {
      "cell_type": "markdown",
      "metadata": {
        "id": "Ac4ddTPHfV0q"
      },
      "source": [
        "**Task 3 - Test**"
      ]
    },
    {
      "cell_type": "code",
      "metadata": {
        "deletable": false,
        "editable": false,
        "id": "ZLoKRMkjEs2D",
        "nbgrader": {
          "cell_type": "code",
          "checksum": "13ae4dd0e58da917a8281772cce84af4",
          "grade": true,
          "grade_id": "cell-28b49f01a6955c2f",
          "locked": true,
          "points": 1,
          "schema_version": 3,
          "solution": false,
          "task": false
        }
      },
      "source": [
        "# Task 3 - Test\n",
        "# Hidden tests - you will see the results when you submit to Canvas"
      ],
      "execution_count": null,
      "outputs": []
    },
    {
      "cell_type": "markdown",
      "metadata": {
        "id": "3tJKQmH-Cm6u"
      },
      "source": [
        "**Task 4** - Conditional probability: A and B\n",
        "\n",
        "Now, we'll calculate the conditional probability of being a First Class passenger **and** surviving. We write this as P(A $\\cap$ B) and we read it as \"the probability of A and B\".\n",
        "\n",
        "* calculate the conditional probability P(A $\\cap$ B) and assign it to the variable `p_a_and_b`\n",
        "\n",
        "*Hint: we write the probability of an event using a decimal, not a percent.*"
      ]
    },
    {
      "cell_type": "code",
      "metadata": {
        "deletable": false,
        "id": "_XREg3idfV0t",
        "nbgrader": {
          "cell_type": "code",
          "checksum": "60dc8857f800ac99fea24ec5119db95c",
          "grade": false,
          "grade_id": "cell-c124ed27b905efad",
          "locked": false,
          "schema_version": 3,
          "solution": true,
          "task": false
        },
        "colab": {
          "base_uri": "https://localhost:8080/"
        },
        "outputId": "e927188f-dee1-4a7f-a636-95f85968a7c1"
      },
      "source": [
        "# Task 4\n",
        "\n",
        "# YOUR CODE HERE\n",
        "\n",
        "p_a_and_b = cross_tab[1][1]/cross_tab['All']['All']\n",
        "\n",
        "print('The value of P(A and B) is:', p_a_and_b)\n",
        "print('----------------------------------------')\n",
        "print(cross_tab)\n",
        "print('----------------------------------------')\n",
        "print(cross_tab_two)\n",
        "print('----------------------------------------')"
      ],
      "execution_count": null,
      "outputs": [
        {
          "output_type": "stream",
          "text": [
            "The value of P(A and B) is: 0.15332581736189402\n",
            "----------------------------------------\n",
            "Survived         0         1       All\n",
            "Pclass                                \n",
            "1         0.090192  0.153326  0.243517\n",
            "2         0.109357  0.098083  0.207441\n",
            "3         0.414882  0.134160  0.549042\n",
            "All       0.614431  0.385569  1.000000\n",
            "----------------------------------------\n",
            "Survived    0    1  All\n",
            "Pclass                 \n",
            "1          80  136  216\n",
            "2          97   87  184\n",
            "3         368  119  487\n",
            "All       545  342  887\n",
            "----------------------------------------\n"
          ],
          "name": "stdout"
        }
      ]
    },
    {
      "cell_type": "markdown",
      "metadata": {
        "id": "X5QTHXb7fV0t"
      },
      "source": [
        "**Task 4 - Test**"
      ]
    },
    {
      "cell_type": "code",
      "metadata": {
        "deletable": false,
        "editable": false,
        "id": "ie2WmfDlfV0t",
        "nbgrader": {
          "cell_type": "code",
          "checksum": "3de2a100e4af19c0c1bf9e8daaf97f39",
          "grade": true,
          "grade_id": "cell-94f5711349cc6887",
          "locked": true,
          "points": 1,
          "schema_version": 3,
          "solution": false,
          "task": false
        }
      },
      "source": [
        "# Task 4 - Test\n",
        "# Hidden tests - you will see the results when you submit to Canvas"
      ],
      "execution_count": null,
      "outputs": []
    },
    {
      "cell_type": "markdown",
      "metadata": {
        "id": "MDdOtbnlfV0t"
      },
      "source": [
        "**Task 5** - Conditional probability: A given B\n",
        "\n",
        "Next, we'll calculate the conditional probability of surviving given the person was a First Class passenger. We write this as P(A|B) and we read it as \"the probability of A given B\".\n",
        "\n",
        "* generate a new cross tabulation with the parameter `normalize='index'`; name this table `cross_tab_norm`\n",
        "* calculate the conditional probability P(A|B) and assign it to the variable `p_a_given_b`\n",
        "\n",
        "*Hint: we write the probability of an event using a decimal, not a percent.*"
      ]
    },
    {
      "cell_type": "code",
      "metadata": {
        "deletable": false,
        "id": "VzHakDD6DOcL",
        "nbgrader": {
          "cell_type": "code",
          "checksum": "d01643c7433d3317f3696af59d4537ab",
          "grade": false,
          "grade_id": "cell-7b16a6ecf032b8ba",
          "locked": false,
          "schema_version": 3,
          "solution": true,
          "task": false
        },
        "colab": {
          "base_uri": "https://localhost:8080/"
        },
        "outputId": "dbae3719-2ea2-4656-ccc4-6f474b147b50"
      },
      "source": [
        "# Task 5\n",
        "\n",
        "# YOUR CODE HERE\n",
        "\n",
        "cross_tab_norm = pd.crosstab(df['Pclass'], df['Survived'], normalize='index')\n",
        "\n",
        "p_a_given_b = round(p_a_and_b/p_b,1)\n",
        "\n",
        "\n",
        "print('The value of P(A given B) is:', p_a_given_b)\n",
        "print('-----------------------------------------------------')\n",
        "print(cross_tab_norm)\n",
        "print('-----------------------------------------------------')\n",
        "print(cross_tab_two)\n",
        "print('-----------------------------------------------------')"
      ],
      "execution_count": null,
      "outputs": [
        {
          "output_type": "stream",
          "text": [
            "The value of P(A given B) is: 0.6\n",
            "-----------------------------------------------------\n",
            "Survived         0         1\n",
            "Pclass                      \n",
            "1         0.370370  0.629630\n",
            "2         0.527174  0.472826\n",
            "3         0.755647  0.244353\n",
            "-----------------------------------------------------\n",
            "Survived    0    1  All\n",
            "Pclass                 \n",
            "1          80  136  216\n",
            "2          97   87  184\n",
            "3         368  119  487\n",
            "All       545  342  887\n",
            "-----------------------------------------------------\n"
          ],
          "name": "stdout"
        }
      ]
    },
    {
      "cell_type": "markdown",
      "metadata": {
        "deletable": false,
        "editable": false,
        "id": "HVmkR9SXfV0u",
        "nbgrader": {
          "cell_type": "markdown",
          "checksum": "bf34b470e7835f50b0d6f52e6ac60730",
          "grade": false,
          "grade_id": "cell-5d1717dbbd5adc5a",
          "locked": true,
          "schema_version": 3,
          "solution": false,
          "task": false
        }
      },
      "source": [
        "**Task 5 - Test**"
      ]
    },
    {
      "cell_type": "code",
      "metadata": {
        "deletable": false,
        "editable": false,
        "id": "IgphlpCOFMDe",
        "nbgrader": {
          "cell_type": "code",
          "checksum": "8501c6490ac3e0cbd7399be2c56c24c0",
          "grade": true,
          "grade_id": "cell-e873df7d0460dbc5",
          "locked": true,
          "points": 1,
          "schema_version": 3,
          "solution": false,
          "task": false
        }
      },
      "source": [
        "# Task 5 - Test\n",
        "assert isinstance(cross_tab_norm, pd.DataFrame), 'Did you create the new cross tabulation DataFrame?'"
      ],
      "execution_count": null,
      "outputs": []
    },
    {
      "cell_type": "markdown",
      "metadata": {
        "id": "PheF3oSXfV0u"
      },
      "source": [
        "**Task 6** - Conditional probability: B given A\n",
        "\n",
        "Okay, now we'll calculate the conditional probability of being a First Class passenger given the person survived. We write this as P(B|A) and we read it as \"the probability of B given A\".\n",
        "\n",
        "* create a new cross tabulation DataFrame and name it `cross_tab_norm2`.\n",
        "    * *Hint: You may find it helpful to reverse the order of the columns when you calculate the new table*\n",
        "* calculate the conditional probability P(B|A) and assign it to the variable `p_b_given_a`"
      ]
    },
    {
      "cell_type": "code",
      "metadata": {
        "deletable": false,
        "id": "6I2m6yBFfV0u",
        "nbgrader": {
          "cell_type": "code",
          "checksum": "f3ed692f36fb25987efec83bd7cfffab",
          "grade": false,
          "grade_id": "cell-78df1483b44c6dd6",
          "locked": false,
          "schema_version": 3,
          "solution": true,
          "task": false
        },
        "colab": {
          "base_uri": "https://localhost:8080/"
        },
        "outputId": "6e1583e4-725c-46eb-b4fb-f40e07ddd318"
      },
      "source": [
        "# Task 6\n",
        "\n",
        "# YOUR CODE HERE\n",
        "\n",
        "\n",
        "cross_tab_norm2 = pd.crosstab(df['Survived'], df['Pclass'], normalize='index', margins=True)\n",
        "cross_tab_reg2 = pd.crosstab(df['Survived'], df['Pclass'], margins=True)\n",
        "\n",
        "p_b_given_a = cross_tab_norm2[1][1]\n",
        "\n",
        "print('The value of P(B given A) is:', p_b_given_a)\n",
        "print('-----------------------------------------------------')\n",
        "print(cross_tab_norm2)\n",
        "print('-----------------------------------------------------')\n",
        "print(cross_tab_reg2)\n",
        "print('-----------------------------------------------------')\n",
        "print(cross_tab)\n",
        "print('-----------------------------------------------------')\n",
        "print(cross_tab_two)\n",
        "print('-----------------------------------------------------')"
      ],
      "execution_count": null,
      "outputs": [
        {
          "output_type": "stream",
          "text": [
            "The value of P(B given A) is: 0.39766081871345027\n",
            "-----------------------------------------------------\n",
            "Pclass           1         2         3\n",
            "Survived                              \n",
            "0         0.146789  0.177982  0.675229\n",
            "1         0.397661  0.254386  0.347953\n",
            "All       0.243517  0.207441  0.549042\n",
            "-----------------------------------------------------\n",
            "Pclass      1    2    3  All\n",
            "Survived                    \n",
            "0          80   97  368  545\n",
            "1         136   87  119  342\n",
            "All       216  184  487  887\n",
            "-----------------------------------------------------\n",
            "Survived         0         1       All\n",
            "Pclass                                \n",
            "1         0.090192  0.153326  0.243517\n",
            "2         0.109357  0.098083  0.207441\n",
            "3         0.414882  0.134160  0.549042\n",
            "All       0.614431  0.385569  1.000000\n",
            "-----------------------------------------------------\n",
            "Survived    0    1  All\n",
            "Pclass                 \n",
            "1          80  136  216\n",
            "2          97   87  184\n",
            "3         368  119  487\n",
            "All       545  342  887\n",
            "-----------------------------------------------------\n"
          ],
          "name": "stdout"
        }
      ]
    },
    {
      "cell_type": "markdown",
      "metadata": {
        "id": "bK-0gwSLfV0v"
      },
      "source": [
        "**Task 6 - Test**"
      ]
    },
    {
      "cell_type": "code",
      "metadata": {
        "deletable": false,
        "editable": false,
        "id": "nPSLTZJXfV0v",
        "nbgrader": {
          "cell_type": "code",
          "checksum": "df2c67e9cb97b4905a2d83f50b1158cb",
          "grade": true,
          "grade_id": "cell-6b90b196728d2c90",
          "locked": true,
          "points": 1,
          "schema_version": 3,
          "solution": false,
          "task": false
        }
      },
      "source": [
        "# Task 6 - Test\n",
        "assert isinstance(cross_tab_norm2, pd.DataFrame), 'Did you create another new cross tabulation DataFrame?'"
      ],
      "execution_count": null,
      "outputs": []
    },
    {
      "cell_type": "markdown",
      "metadata": {
        "id": "lxYJhvp1DkLS"
      },
      "source": [
        "**Task 7**\n",
        "\n",
        "So far, we have calculated the individual probabilities: P(A), P(B), P(A $\\cap$ B), P(A|B), and P(B|A). Now we're going to calculate the conditional probability P(A|B) using the following equation:\n",
        "\n",
        "$$P(A|B) = \\frac{P(A \\cap B)}{P(B)}$$\n",
        "\n",
        "* calculate the value of P(A|B) and assign it to the variable `calc1_p_a_given_b`\n",
        "* compare it to your value from Task 5 by testing if `p_a_given_b` is equal to `calc1_p_a_given_b` (use an assert statement!)"
      ]
    },
    {
      "cell_type": "code",
      "metadata": {
        "deletable": false,
        "id": "6_Vq5xZ2fV0v",
        "nbgrader": {
          "cell_type": "code",
          "checksum": "7c6c9ad080c3bdf1865ca3d105c53dc8",
          "grade": false,
          "grade_id": "cell-f247272a2857b88b",
          "locked": false,
          "schema_version": 3,
          "solution": true,
          "task": false
        },
        "colab": {
          "base_uri": "https://localhost:8080/"
        },
        "outputId": "9189da87-25de-4c57-d10d-07e37b76a81a"
      },
      "source": [
        "# Task 7\n",
        "\n",
        "# YOUR CODE HERE\n",
        "\n",
        "calc1_p_a_given_b = round(p_a_and_b / p_b,1)\n",
        "\n",
        "\n",
        "if p_a_given_b == calc1_p_a_given_b:\n",
        "  print(\"Your answer is corrct, Yes\")\n",
        "else:\n",
        "  print(\"Your answer is incorrct, No\")\n",
        "\n",
        "print('-----------------------------------------------------')\n",
        "print('The calculated value of P(A|B) is:', calc1_p_a_given_b)\n",
        "print('-----------------------------------------------------')\n",
        "print(cross_tab_norm2)\n",
        "print('-----------------------------------------------------')\n",
        "print(cross_tab_reg2)\n",
        "print('-----------------------------------------------------')\n",
        "print(cross_tab)\n",
        "print('-----------------------------------------------------')\n",
        "print(cross_tab_two)\n",
        "print('-----------------------------------------------------')"
      ],
      "execution_count": null,
      "outputs": [
        {
          "output_type": "stream",
          "text": [
            "Your answer is corrct, Yes\n",
            "-----------------------------------------------------\n",
            "The calculated value of P(A|B) is: 0.6\n",
            "-----------------------------------------------------\n",
            "Pclass           1         2         3\n",
            "Survived                              \n",
            "0         0.146789  0.177982  0.675229\n",
            "1         0.397661  0.254386  0.347953\n",
            "All       0.243517  0.207441  0.549042\n",
            "-----------------------------------------------------\n",
            "Pclass      1    2    3  All\n",
            "Survived                    \n",
            "0          80   97  368  545\n",
            "1         136   87  119  342\n",
            "All       216  184  487  887\n",
            "-----------------------------------------------------\n",
            "Survived         0         1       All\n",
            "Pclass                                \n",
            "1         0.090192  0.153326  0.243517\n",
            "2         0.109357  0.098083  0.207441\n",
            "3         0.414882  0.134160  0.549042\n",
            "All       0.614431  0.385569  1.000000\n",
            "-----------------------------------------------------\n",
            "Survived    0    1  All\n",
            "Pclass                 \n",
            "1          80  136  216\n",
            "2          97   87  184\n",
            "3         368  119  487\n",
            "All       545  342  887\n",
            "-----------------------------------------------------\n"
          ],
          "name": "stdout"
        }
      ]
    },
    {
      "cell_type": "markdown",
      "metadata": {
        "id": "zr9B_5g8fV0w"
      },
      "source": [
        "**Task 7 - Test**"
      ]
    },
    {
      "cell_type": "code",
      "metadata": {
        "deletable": false,
        "editable": false,
        "id": "qTxbF-uRfV0w",
        "nbgrader": {
          "cell_type": "code",
          "checksum": "869e15b8e27675436cd3f1aa6caaf6dd",
          "grade": true,
          "grade_id": "cell-04815f7901139e23",
          "locked": true,
          "points": 1,
          "schema_version": 3,
          "solution": false,
          "task": false
        }
      },
      "source": [
        "# Task 7 - Test\n",
        "\n",
        "# Use this test to check your answer before submitting to Canvas/CodeGrade\n",
        "assert round(calc1_p_a_given_b, 1)== round(p_a_given_b, 1), 'Did you use the correct variables in your calculation?'\n"
      ],
      "execution_count": null,
      "outputs": []
    },
    {
      "cell_type": "markdown",
      "metadata": {
        "id": "M2pRVt7ADsFk"
      },
      "source": [
        "**Task 8**\n",
        "\n",
        "Finally, we're at the last calculation! We want to calculate P(A|B) again, using Bayes' Theorem:\n",
        "\n",
        "$$P(A|B) = \\frac{P(B|A)P(A)}{P(B)}$$\n",
        "\n",
        "* calculate the value of P(A|B) and assign it to the variable `calc2_p_a_given_b` (*notice the new variable name*)\n",
        "* compare it to your value from Task 5 by testing if p_a_given_b is equal to `calc2_p_a_given_b` (again, use an assert statement)"
      ]
    },
    {
      "cell_type": "code",
      "metadata": {
        "deletable": false,
        "id": "pC0WbOFifV0w",
        "nbgrader": {
          "cell_type": "code",
          "checksum": "8076b6d8ba94230f061309165e69793f",
          "grade": false,
          "grade_id": "cell-c917c91e48739649",
          "locked": false,
          "schema_version": 3,
          "solution": true,
          "task": false
        },
        "colab": {
          "base_uri": "https://localhost:8080/"
        },
        "outputId": "66421127-9023-4d70-d66d-850d415386c8"
      },
      "source": [
        "# Task 8\n",
        "\n",
        "# YOUR CODE HERE\n",
        "\n",
        "calc2_p_a_given_b = round((p_b_given_a*p_a) / p_b,1)\n",
        "\n",
        "if p_a_given_b == calc2_p_a_given_b:\n",
        "  print(\"Your answer is corrct, Yes\")\n",
        "else:\n",
        "  print(\"Your answer is incorrct, No\")\n",
        "\n",
        "print('-----------------------------------------------------')\n",
        "print(\"The calculated value of P(A|B) using Bayes' Theorem is:\", calc2_p_a_given_b)\n",
        "print('-----------------------------------------------------')\n",
        "print(cross_tab_norm2)\n",
        "print('-----------------------------------------------------')\n",
        "print(cross_tab_reg2)\n",
        "print('-----------------------------------------------------')\n",
        "print(cross_tab)\n",
        "print('-----------------------------------------------------')\n",
        "print(cross_tab_two)\n",
        "print('-----------------------------------------------------')"
      ],
      "execution_count": null,
      "outputs": [
        {
          "output_type": "stream",
          "text": [
            "Your answer is corrct, Yes\n",
            "-----------------------------------------------------\n",
            "The calculated value of P(A|B) using Bayes' Theorem is: 0.6\n",
            "-----------------------------------------------------\n",
            "Pclass           1         2         3\n",
            "Survived                              \n",
            "0         0.146789  0.177982  0.675229\n",
            "1         0.397661  0.254386  0.347953\n",
            "All       0.243517  0.207441  0.549042\n",
            "-----------------------------------------------------\n",
            "Pclass      1    2    3  All\n",
            "Survived                    \n",
            "0          80   97  368  545\n",
            "1         136   87  119  342\n",
            "All       216  184  487  887\n",
            "-----------------------------------------------------\n",
            "Survived         0         1       All\n",
            "Pclass                                \n",
            "1         0.090192  0.153326  0.243517\n",
            "2         0.109357  0.098083  0.207441\n",
            "3         0.414882  0.134160  0.549042\n",
            "All       0.614431  0.385569  1.000000\n",
            "-----------------------------------------------------\n",
            "Survived    0    1  All\n",
            "Pclass                 \n",
            "1          80  136  216\n",
            "2          97   87  184\n",
            "3         368  119  487\n",
            "All       545  342  887\n",
            "-----------------------------------------------------\n"
          ],
          "name": "stdout"
        }
      ]
    },
    {
      "cell_type": "markdown",
      "metadata": {
        "id": "wSpwrX8efV0w"
      },
      "source": [
        "**Task 8 - Test**"
      ]
    },
    {
      "cell_type": "code",
      "metadata": {
        "deletable": false,
        "editable": false,
        "id": "wQhD60bafV0w",
        "nbgrader": {
          "cell_type": "code",
          "checksum": "8dafbfdaeb584218c28d4f26ebde540c",
          "grade": true,
          "grade_id": "cell-5b3ded4417bd9d18",
          "locked": true,
          "points": 1,
          "schema_version": 3,
          "solution": false,
          "task": false
        }
      },
      "source": [
        "# Task 8 - Test\n",
        "\n",
        "# Use this test to check your answer before submitting to Canvas/CodeGrade\n",
        "assert round(calc2_p_a_given_b, 1) == round(p_a_given_b, 1), 'Did you use the correct variables in your calculation?'"
      ],
      "execution_count": null,
      "outputs": []
    },
    {
      "cell_type": "markdown",
      "metadata": {
        "id": "SB1m04Zf16Lo"
      },
      "source": [
        "## Part B\n",
        "\n",
        "### Hogwarts Sorting Hat and Conditional Probabilities\n",
        "\n",
        "Use the following information to complete Tasks 9 - 13\n",
        "\n",
        "\n",
        "Students arriving at Hogwarts are sorted into one of the four residential houses -- Gryffindor, Hufflepuff, Ravenclaw, and Slytherin -- by the magical Sorting Hat.\n",
        "\n",
        "In theory, the Hat is supposed to examine each student's personality, consider his or her wishes, and then place the student into the most appropriate house. However, after a thousand years, the Hat has gotten pretty lazy, so it has simplified its sorting process into a two-step algorithm:\n",
        "\n",
        "* All evil students go into Slytherin, obviously.\n",
        "\n",
        "* Everybody else is just randomly sorted into one of the four houses, with a 40% probability of being put into Hufflepuff and a 20% probability of being put into each of the three other houses.\n",
        "\n",
        "Hermione is shocked when she's sorted into Slytherin! She's never thought of herself as evil, but now that she considers it, becoming the future Dark Lady of Magical Britain does have some appeal...\n",
        "\n",
        "**If 10% of new Hogwarts students are evil, what is the probability that a randomly chosen Slytherin is evil?**\n",
        "\n",
        "*Hint: the value you want is P(Evil | Slytherin).*"
      ]
    },
    {
      "cell_type": "markdown",
      "metadata": {
        "id": "TB-dEdYIvXev"
      },
      "source": [
        "**Task 9** - Write out probability steps\n",
        "\n",
        "Write the relationship used to P(Evil|Slitherin) from P(Slithern|Evil), p(Evil) and P(Slytherin): \n"
      ]
    },
    {
      "cell_type": "markdown",
      "metadata": {
        "id": "KcZoKPPOfV0x"
      },
      "source": [
        "**Task 9** - \n",
        "\n",
        "I'm not too sure if I understand the phrasing of the question but here's my interpretation - \n",
        "* P(Evil|Slitherin) the probability of being sorted evil given the chosen house was slitherin\n",
        "* P(Slithern|Evil) the probability of being placed in slithern given the person was evil\n",
        "* p(Evil) The probability of being evil\n",
        "* P(Slytherin) The probability of being slytherin\n",
        "\n"
      ]
    },
    {
      "cell_type": "code",
      "metadata": {
        "id": "PaLUh8vwJxT6"
      },
      "source": [
        "# All evil students go to Slytherin - Rest - 1/4 houses - 40% HP, and 20% distrobuted into 1/3 Not Slitherin, and 10% of all all new hogwarts students are evil, what is the probability that a random chosen slytherin?\n",
        "\n",
        "# P(Evil|Slytherin)= P(Slytherin|Evil)*P(Evil)/P(Slytherin)\n",
        "\n",
        "# * P(Evil|Slitherin) the probability of being sorted evil given the chosen house was slitherin\n",
        "# * P(Slithern|Evil) the probability of being placed in slithern given the person was evil\n",
        "# * p(Evil) The probability of being evil\n",
        "# * P(Slytherin) The probability of being slytherin\n",
        "\n",
        "#  1 = Evil\n",
        "#  .1 New students = Evil\n",
        "#  .9 population goes to other\n",
        "#  .4 Hufflepuff\n",
        "#  .2 other 3 houses including slithern\n",
        "#  .3 missing value?\n",
        "\n",
        "# Evil|Slithern = 10% * 90% / 30%\n",
        "\n",
        "# Evil|Slithern = 90% other 10% evil\n"
      ],
      "execution_count": null,
      "outputs": []
    },
    {
      "cell_type": "markdown",
      "metadata": {
        "id": "HzceET6m6qH-"
      },
      "source": [
        "**Task 10** - Determine P(Slytherin|Evil)\n",
        "\n",
        "Using the description in Part B above, determine P(Slytherin|Evil)\n",
        "\n",
        "* assign your value to the variable `p_slytherin_given_evil`"
      ]
    },
    {
      "cell_type": "code",
      "metadata": {
        "deletable": false,
        "id": "xw6XgTeYfV0x",
        "nbgrader": {
          "cell_type": "code",
          "checksum": "354796566a2c53dc24495ccba5ca8cc1",
          "grade": false,
          "grade_id": "cell-261fe68593bd204f",
          "locked": false,
          "schema_version": 3,
          "solution": true,
          "task": false
        },
        "colab": {
          "base_uri": "https://localhost:8080/"
        },
        "outputId": "2e4ffbdb-dc6f-4d1f-9b1f-fdfed8b586c0"
      },
      "source": [
        "# Task 10\n",
        "\n",
        "# YOUR CODE HERE\n",
        "\n",
        "p_slytherin_given_evil = 1\n",
        "\n",
        "print(\"The probability of being Slytherin given a student is evil is:\", p_slytherin_given_evil)"
      ],
      "execution_count": null,
      "outputs": [
        {
          "output_type": "stream",
          "text": [
            "The probability of being Slytherin given a student is evil is: 1\n"
          ],
          "name": "stdout"
        }
      ]
    },
    {
      "cell_type": "markdown",
      "metadata": {
        "id": "eqWOb2NifV0x"
      },
      "source": [
        "**Task 10 - Test**"
      ]
    },
    {
      "cell_type": "code",
      "metadata": {
        "deletable": false,
        "editable": false,
        "id": "On-8VjnAfV0y",
        "nbgrader": {
          "cell_type": "code",
          "checksum": "a4b2132c1b2837629b2c0cf2ac6388da",
          "grade": true,
          "grade_id": "cell-5ea3c604f8c46a38",
          "locked": true,
          "points": 1,
          "schema_version": 3,
          "solution": false,
          "task": false
        }
      },
      "source": [
        "# Task 10 - Test\n",
        "# Hidden tests - you will see the results when you submit to Canvas"
      ],
      "execution_count": null,
      "outputs": []
    },
    {
      "cell_type": "markdown",
      "metadata": {
        "id": "J5tvhwT662fm"
      },
      "source": [
        "**Task 11** - Determine P(Evil)\n",
        "\n",
        "Using the description in Part B above, determine P(Evil)\n",
        "\n",
        "* assign your value to the variable `p_evil`"
      ]
    },
    {
      "cell_type": "code",
      "metadata": {
        "deletable": false,
        "id": "QJzsVlK2fV0y",
        "nbgrader": {
          "cell_type": "code",
          "checksum": "d9fa35e322f690a6c3211fab91abad2f",
          "grade": false,
          "grade_id": "cell-6c3502e03a1033ff",
          "locked": false,
          "schema_version": 3,
          "solution": true,
          "task": false
        },
        "colab": {
          "base_uri": "https://localhost:8080/"
        },
        "outputId": "7f766f37-8cbc-4d0e-ccd2-aac01e735532"
      },
      "source": [
        "# Task 11\n",
        "\n",
        "# YOUR CODE HERE\n",
        "\n",
        "p_evil = .1\n",
        "\n",
        "print(\"The probability of being an evil student is:\", p_evil)"
      ],
      "execution_count": null,
      "outputs": [
        {
          "output_type": "stream",
          "text": [
            "The probability of being an evil student is: 0.1\n"
          ],
          "name": "stdout"
        }
      ]
    },
    {
      "cell_type": "markdown",
      "metadata": {
        "id": "LVE54OXmfV0y"
      },
      "source": [
        "**Task 11 - Test**"
      ]
    },
    {
      "cell_type": "code",
      "metadata": {
        "deletable": false,
        "editable": false,
        "id": "XqjOJXAz67fe",
        "nbgrader": {
          "cell_type": "code",
          "checksum": "6169e3a8b73f62b9867075c2781dde39",
          "grade": true,
          "grade_id": "cell-e2ec0f21d4609dfd",
          "locked": true,
          "points": 1,
          "schema_version": 3,
          "solution": false,
          "task": false
        }
      },
      "source": [
        "# Task 11 - Test\n",
        "# Hidden tests - you will see the results when you submit to Canvas"
      ],
      "execution_count": null,
      "outputs": []
    },
    {
      "cell_type": "markdown",
      "metadata": {
        "id": "rbNyx9Pd6_ze"
      },
      "source": [
        "**Task 12** - Determine P(Slytherin)\n",
        "\n",
        "Hint: This is a little tricky.  This is equal to the probability of a student being evil (and therefore being sorted into Slytherin) **added to** the probability of not being evil and being sorted into Slytherin.\n",
        "\n",
        "* assign the value of P(NOT Evil and Slytherin) to `p_not_evil_and_slytherin`\n",
        "* calculate the value of P(Slytherin) and assign it to `p_slytherin`"
      ]
    },
    {
      "cell_type": "markdown",
      "metadata": {
        "id": "g3gl5Jn9nyit"
      },
      "source": [
        "![image.png](data:image/png;base64,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)"
      ]
    },
    {
      "cell_type": "code",
      "metadata": {
        "deletable": false,
        "id": "V7Idj7fWfV0y",
        "nbgrader": {
          "cell_type": "code",
          "checksum": "ff61bb598a9362d4a1df80f9d14ac513",
          "grade": false,
          "grade_id": "cell-4901b7dcdcfe8395",
          "locked": false,
          "schema_version": 3,
          "solution": true,
          "task": false
        },
        "colab": {
          "base_uri": "https://localhost:8080/"
        },
        "outputId": "6a996edd-84aa-4623-bd7d-55ef353f0a1c"
      },
      "source": [
        "# Task 12\n",
        "\n",
        "# YOUR CODE HERE\n",
        "\n",
        "# For Task 12, yeah it's a rough question.\n",
        "# You'll need to note two things:\n",
        "# You know how many students are evil. Just figure out how many students are not.\n",
        "# Note that there are still 'not evil'  students who can get in to Slytherin. Note the instruction from earlier Everybody else is just randomly sorted into one of the four houses, with a 40% probability of being put into Hufflepuff and a 20% probability of being put into each of the three other houses.\n",
        "\n",
        "# So... I def agree that the instructions don't describe Task 12 very well.\n",
        "# What they're looking for is that there are 20 % of Hogwarts students who go to Slytherin, whether they're evil or not.\n",
        "# So that includes students who are evil, who automatically go to Slytherin, and students who are not, who have a 20% chance of ending up in Slytherin anyway.\n",
        "# So you calculate good students who are at Slytherin, and then you add the evil students.\n",
        "\n",
        "# The posterior probability is the probability of the event of interest happening.\n",
        "# The likelihood is what we could consider normal hypothesis testing if we were frequentists.\n",
        "# The prior is our prior knowledge about the outcome\n",
        "# The evidence is evidence from a sample or experiment\n",
        "\n",
        "p_not_evil_and_slytherin = round((.9*.2),2)\n",
        "\n",
        "p_slytherin = round((p_not_evil_and_slytherin/.19*.3),2)\n",
        "\n",
        "print(p_not_evil_and_slytherin)\n",
        "print(\"The probability of a student being in Slytherin is:\", p_slytherin)"
      ],
      "execution_count": null,
      "outputs": [
        {
          "output_type": "stream",
          "text": [
            "0.18\n",
            "The probability of a student being in Slytherin is: 0.28\n"
          ],
          "name": "stdout"
        }
      ]
    },
    {
      "cell_type": "markdown",
      "metadata": {
        "id": "HBbbPtQ8fV0z"
      },
      "source": [
        "**Task 12 - Test**"
      ]
    },
    {
      "cell_type": "code",
      "metadata": {
        "deletable": false,
        "editable": false,
        "id": "ONbh5xwlfV0z",
        "nbgrader": {
          "cell_type": "code",
          "checksum": "eac335f215b9109dd8e1560e725cb72a",
          "grade": true,
          "grade_id": "cell-eb712e5d7e1db780",
          "locked": true,
          "points": 1,
          "schema_version": 3,
          "solution": false,
          "task": false
        }
      },
      "source": [
        "# Task 12 - Test\n",
        "# Hidden tests - you will see the results when you submit to Canvas"
      ],
      "execution_count": null,
      "outputs": []
    },
    {
      "cell_type": "markdown",
      "metadata": {
        "id": "K_hfqxQg7pZo"
      },
      "source": [
        "**Task 13** - Calculate P(Evil|Slytherin)\n",
        "\n",
        "We have arrived at the final Sorting Hat calculation! Now, we're are going to calculate the probability of P(Evil|Slytherin) using the following equation:\n",
        "\n",
        "$$P(Evil|Slytherin)= \\frac{P(Slytherin|Evil)P(Evil)}{P(Slytherin)}$$\n",
        "\n",
        "* calculate P(Evil|Slytherin) and assign it to `p_evil_given_slytherin`"
      ]
    },
    {
      "cell_type": "code",
      "metadata": {
        "deletable": false,
        "id": "_SvOUvMOfV0z",
        "nbgrader": {
          "cell_type": "code",
          "checksum": "fb079c77bb6d78ddc7636805eac75209",
          "grade": false,
          "grade_id": "cell-8739d8cd9cb5d70e",
          "locked": false,
          "schema_version": 3,
          "solution": true,
          "task": false
        },
        "colab": {
          "base_uri": "https://localhost:8080/"
        },
        "outputId": "88639729-e5b9-4240-cbd6-25a9703d23b6"
      },
      "source": [
        "# Task 13\n",
        "\n",
        "# YOUR CODE HERE\n",
        "\n",
        "p_evil_given_slytherin = round((p_slytherin_given_evil*p_evil)/p_slytherin,2)\n",
        "\n",
        "p_evil_given_slytherin\n",
        "\n",
        "# I'm going to need to run this section back at some point. Going to schedule an office hours.\n"
      ],
      "execution_count": null,
      "outputs": [
        {
          "output_type": "execute_result",
          "data": {
            "text/plain": [
              "0.36"
            ]
          },
          "metadata": {
            "tags": []
          },
          "execution_count": 132
        }
      ]
    },
    {
      "cell_type": "markdown",
      "metadata": {
        "id": "Z9QDNH8DfV0z"
      },
      "source": [
        "**Task 13 - Test**"
      ]
    },
    {
      "cell_type": "code",
      "metadata": {
        "deletable": false,
        "editable": false,
        "id": "xMt0fykG7_BR",
        "nbgrader": {
          "cell_type": "code",
          "checksum": "355ac95a73cd869948cb4a96dabf5dc4",
          "grade": true,
          "grade_id": "cell-aa9312dca132f04b",
          "locked": true,
          "points": 1,
          "schema_version": 3,
          "solution": false,
          "task": false
        }
      },
      "source": [
        "# Task 13 - Test\n",
        "# Hidden tests - you will see the results when you submit to Canvas"
      ],
      "execution_count": null,
      "outputs": []
    }
  ]
}