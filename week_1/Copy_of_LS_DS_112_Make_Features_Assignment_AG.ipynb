{
  "nbformat": 4,
  "nbformat_minor": 0,
  "metadata": {
    "colab": {
      "name": "Copy of LS_DS_112_Make_Features_Assignment_AG.ipynb",
      "provenance": [],
      "collapsed_sections": []
    },
    "kernelspec": {
      "display_name": "Python 3",
      "language": "python",
      "name": "python3"
    },
    "language_info": {
      "codemirror_mode": {
        "name": "ipython",
        "version": 3
      },
      "file_extension": ".py",
      "mimetype": "text/x-python",
      "name": "python",
      "nbconvert_exporter": "python",
      "pygments_lexer": "ipython3",
      "version": "3.7.4"
    }
  },
  "cells": [
    {
      "cell_type": "markdown",
      "metadata": {
        "id": "4_DblT24ANtD"
      },
      "source": [
        "## Autograded Notebook (Canvas & CodeGrade)\n",
        "\n",
        "This notebook will be automatically graded. It is designed to test your answers and award points for the correct answers. Following the instructions for each Task carefully.\n",
        "\n",
        "### Instructions\n",
        "\n",
        "* **Download this notebook** as you would any other ipynb file\n",
        "* **Upload** to Google Colab or work locally (if you have that set-up)\n",
        "* **Delete `raise NotImplementedError()`**\n",
        "* Write your code in the `# YOUR CODE HERE` space\n",
        "* **Execute** the Test cells that contain `assert` statements - these help you check your work (others contain hidden tests that will be checked when you submit through Canvas)\n",
        "* **Save** your notebook when you are finished\n",
        "* **Download** as a `ipynb` file (if working in Colab)\n",
        "* **Upload** your complete notebook to Canvas (there will be additional instructions in Slack and/or Canvas)"
      ]
    },
    {
      "cell_type": "markdown",
      "metadata": {
        "id": "7fknoKxGz_jk"
      },
      "source": [
        "# Lambda School Data Science - Unit 1 Sprint 1 Module 2\n",
        "\n",
        "## Making Features\n",
        "\n",
        "### Module Learning Objectives\n",
        "\n",
        "- Understand the purpose of feature engineering\n",
        "- Work with strings in pandas\n",
        "- Work with dates and times in pandas\n",
        "- Modify or create columns of a dataframe using the `.apply()` function\n",
        "\n",
        "### Resources\n",
        "\n",
        "- Python Data Science Handbook\n",
        "  - [Chapter 3.10](https://jakevdp.github.io/PythonDataScienceHandbook/03.10-working-with-strings.html), Vectorized String Operations - eg. .strip(), .split(), .replace() and list comprehensions\n",
        "  - [Chapter 3.11](https://jakevdp.github.io/PythonDataScienceHandbook/03.11-working-with-time-series.html), Working with Time Series - lots more details about time using and not using Pandas\n",
        "- [Lambda Learning Method for DS - By Ryan Herr](https://docs.google.com/document/d/1ubOw9B3Hfip27hF2ZFnW3a3z9xAgrUDRReOEo-FHCVs/edit?usp=sharing)\n",
        "\n",
        "### Notebook points: 11"
      ]
    },
    {
      "cell_type": "markdown",
      "metadata": {
        "id": "LZSXUzBm3yvk"
      },
      "source": [
        "### Introduction\n",
        "\n",
        "This project is going to focus on learning how to create new features from exisiting data. There are many ways to create features in your datasets; we'll only focus on a few here. Let's get started!"
      ]
    },
    {
      "cell_type": "markdown",
      "metadata": {
        "id": "HEiZ9dpkcRsX"
      },
      "source": [
        "**Task 1** - Load the data set\n",
        "\n",
        "* Using the provided URL, load the Ames Housing Data into a DataFrame called `house`\n",
        "* View your DataFrame"
      ]
    },
    {
      "cell_type": "code",
      "metadata": {
        "deletable": false,
        "id": "GHK1_AnhVsh8",
        "nbgrader": {
          "cell_type": "code",
          "checksum": "7a11bf856bacdf7efeb651411907719a",
          "grade": false,
          "grade_id": "cell-604a4cd13da263c1",
          "locked": false,
          "schema_version": 3,
          "solution": true,
          "task": false
        },
        "colab": {
          "base_uri": "https://localhost:8080/"
        },
        "outputId": "7e43d1d6-7f77-4654-9451-4faaddefc883"
      },
      "source": [
        "# Task 1\n",
        "\n",
        "# Imports\n",
        "import pandas as pd\n",
        "\n",
        "# Dataset URL\n",
        "\n",
        "data_url = 'https://raw.githubusercontent.com/LambdaSchool/data-science-practice-datasets/main/unit_1/Housing/Ames%20Iowa%20Housing%20Data.csv'\n",
        "\n",
        "# YOUR CODE HERE\n",
        "house = pd.read_csv(data_url)\n",
        "\n",
        "# View your DataFrame\n",
        "pd.set_option('display.max_rows', 20)\n",
        "pd.set_option('display.max_columns', 100)\n",
        "print(house.shape)\n",
        "print(house.head())\n",
        "\n",
        "\n"
      ],
      "execution_count": null,
      "outputs": [
        {
          "output_type": "stream",
          "text": [
            "(1460, 81)\n",
            "   Id  MSSubClass MSZoning  LotFrontage  LotArea Street Alley LotShape  \\\n",
            "0   1          60       RL         65.0     8450   Pave   NaN      Reg   \n",
            "1   2          20       RL         80.0     9600   Pave   NaN      Reg   \n",
            "2   3          60       RL         68.0    11250   Pave   NaN      IR1   \n",
            "3   4          70       RL         60.0     9550   Pave   NaN      IR1   \n",
            "4   5          60       RL         84.0    14260   Pave   NaN      IR1   \n",
            "\n",
            "  LandContour Utilities LotConfig LandSlope Neighborhood Condition1  \\\n",
            "0         Lvl    AllPub    Inside       Gtl      CollgCr       Norm   \n",
            "1         Lvl    AllPub       FR2       Gtl      Veenker      Feedr   \n",
            "2         Lvl    AllPub    Inside       Gtl      CollgCr       Norm   \n",
            "3         Lvl    AllPub    Corner       Gtl      Crawfor       Norm   \n",
            "4         Lvl    AllPub       FR2       Gtl      NoRidge       Norm   \n",
            "\n",
            "  Condition2 BldgType HouseStyle  OverallQual  OverallCond  YearBuilt  \\\n",
            "0       Norm     1Fam     2Story            7            5       2003   \n",
            "1       Norm     1Fam     1Story            6            8       1976   \n",
            "2       Norm     1Fam     2Story            7            5       2001   \n",
            "3       Norm     1Fam     2Story            7            5       1915   \n",
            "4       Norm     1Fam     2Story            8            5       2000   \n",
            "\n",
            "   YearRemodAdd RoofStyle RoofMatl Exterior1st Exterior2nd MasVnrType  \\\n",
            "0          2003     Gable  CompShg     VinylSd     VinylSd    BrkFace   \n",
            "1          1976     Gable  CompShg     MetalSd     MetalSd       None   \n",
            "2          2002     Gable  CompShg     VinylSd     VinylSd    BrkFace   \n",
            "3          1970     Gable  CompShg     Wd Sdng     Wd Shng       None   \n",
            "4          2000     Gable  CompShg     VinylSd     VinylSd    BrkFace   \n",
            "\n",
            "   MasVnrArea ExterQual ExterCond Foundation BsmtQual BsmtCond BsmtExposure  \\\n",
            "0       196.0        Gd        TA      PConc       Gd       TA           No   \n",
            "1         0.0        TA        TA     CBlock       Gd       TA           Gd   \n",
            "2       162.0        Gd        TA      PConc       Gd       TA           Mn   \n",
            "3         0.0        TA        TA     BrkTil       TA       Gd           No   \n",
            "4       350.0        Gd        TA      PConc       Gd       TA           Av   \n",
            "\n",
            "  BsmtFinType1  BsmtFinSF1 BsmtFinType2  BsmtFinSF2  BsmtUnfSF  TotalBsmtSF  \\\n",
            "0          GLQ         706          Unf           0        150          856   \n",
            "1          ALQ         978          Unf           0        284         1262   \n",
            "2          GLQ         486          Unf           0        434          920   \n",
            "3          ALQ         216          Unf           0        540          756   \n",
            "4          GLQ         655          Unf           0        490         1145   \n",
            "\n",
            "  Heating HeatingQC CentralAir Electrical  1stFlrSF  2ndFlrSF  LowQualFinSF  \\\n",
            "0    GasA        Ex          Y      SBrkr       856       854             0   \n",
            "1    GasA        Ex          Y      SBrkr      1262         0             0   \n",
            "2    GasA        Ex          Y      SBrkr       920       866             0   \n",
            "3    GasA        Gd          Y      SBrkr       961       756             0   \n",
            "4    GasA        Ex          Y      SBrkr      1145      1053             0   \n",
            "\n",
            "   GrLivArea  BsmtFullBath  BsmtHalfBath  FullBath  HalfBath  BedroomAbvGr  \\\n",
            "0       1710             1             0         2         1             3   \n",
            "1       1262             0             1         2         0             3   \n",
            "2       1786             1             0         2         1             3   \n",
            "3       1717             1             0         1         0             3   \n",
            "4       2198             1             0         2         1             4   \n",
            "\n",
            "   KitchenAbvGr KitchenQual  TotRmsAbvGrd Functional  Fireplaces FireplaceQu  \\\n",
            "0             1          Gd             8        Typ           0         NaN   \n",
            "1             1          TA             6        Typ           1          TA   \n",
            "2             1          Gd             6        Typ           1          TA   \n",
            "3             1          Gd             7        Typ           1          Gd   \n",
            "4             1          Gd             9        Typ           1          TA   \n",
            "\n",
            "  GarageType  GarageYrBlt GarageFinish  GarageCars  GarageArea GarageQual  \\\n",
            "0     Attchd       2003.0          RFn           2         548         TA   \n",
            "1     Attchd       1976.0          RFn           2         460         TA   \n",
            "2     Attchd       2001.0          RFn           2         608         TA   \n",
            "3     Detchd       1998.0          Unf           3         642         TA   \n",
            "4     Attchd       2000.0          RFn           3         836         TA   \n",
            "\n",
            "  GarageCond PavedDrive  WoodDeckSF  OpenPorchSF  EnclosedPorch  3SsnPorch  \\\n",
            "0         TA          Y           0           61              0          0   \n",
            "1         TA          Y         298            0              0          0   \n",
            "2         TA          Y           0           42              0          0   \n",
            "3         TA          Y           0           35            272          0   \n",
            "4         TA          Y         192           84              0          0   \n",
            "\n",
            "   ScreenPorch  PoolArea PoolQC Fence MiscFeature  MiscVal  MoSold  YrSold  \\\n",
            "0            0         0    NaN   NaN         NaN        0       2    2008   \n",
            "1            0         0    NaN   NaN         NaN        0       5    2007   \n",
            "2            0         0    NaN   NaN         NaN        0       9    2008   \n",
            "3            0         0    NaN   NaN         NaN        0       2    2006   \n",
            "4            0         0    NaN   NaN         NaN        0      12    2008   \n",
            "\n",
            "  SaleType SaleCondition  SalePrice  \n",
            "0       WD        Normal     208500  \n",
            "1       WD        Normal     181500  \n",
            "2       WD        Normal     223500  \n",
            "3       WD       Abnorml     140000  \n",
            "4       WD        Normal     250000  \n"
          ],
          "name": "stdout"
        }
      ]
    },
    {
      "cell_type": "markdown",
      "metadata": {
        "id": "0foQpPZmcRsY"
      },
      "source": [
        "**Task 1 Test**"
      ]
    },
    {
      "cell_type": "code",
      "metadata": {
        "deletable": false,
        "editable": false,
        "id": "rOnKHd9OcRsY",
        "nbgrader": {
          "cell_type": "code",
          "checksum": "862a67ed985b5fabe236e26724f65cae",
          "grade": true,
          "grade_id": "cell-4be6ce6f2ae0213b",
          "locked": true,
          "points": 1,
          "schema_version": 3,
          "solution": false,
          "task": false
        }
      },
      "source": [
        "# Task 1 - Test\n",
        "\n",
        "# These tests are for you to check your work before submitting\n",
        "assert isinstance(house, pd.DataFrame), 'Have you created a DataFrame named house?'\n",
        "\n",
        "# Hidden tests - you'll see results when you submit to Canvas"
      ],
      "execution_count": null,
      "outputs": []
    },
    {
      "cell_type": "markdown",
      "metadata": {
        "id": "3MiNr26QcRsY"
      },
      "source": [
        "**Task 2** - Create a new feature\n",
        "\n",
        "Now that we have the data loaded, we're going to create a new feature. We can use the some of the existing features, in this case, the total number of bathrooms in one column.\n",
        "\n",
        "* Create a new variable called `Total_Bathrooms` that contains the total number of full and half bathrooms in the house.  \n",
        "\n",
        "*Hint: Identify all the columns with bath in the title and add their values together. There are four columns to add together.  Add one to the total for each full or half bathroom.*"
      ]
    },
    {
      "cell_type": "code",
      "metadata": {
        "deletable": false,
        "id": "abW4ju7scRsZ",
        "nbgrader": {
          "cell_type": "code",
          "checksum": "4b44666800833a50fdd72ff9bfe83477",
          "grade": false,
          "grade_id": "cell-98808d8ac7de9a36",
          "locked": false,
          "schema_version": 3,
          "solution": true,
          "task": false
        }
      },
      "source": [
        "# Task 2\n",
        "\n",
        "# YOUR CODE HERE\n",
        "\n",
        "house['Total_Bathrooms'] = house['BsmtFullBath'] + house['BsmtHalfBath'] + house['FullBath'] + house['HalfBath']"
      ],
      "execution_count": null,
      "outputs": []
    },
    {
      "cell_type": "markdown",
      "metadata": {
        "id": "1OwdxrCpcRsZ"
      },
      "source": [
        "**Task 2 Test**"
      ]
    },
    {
      "cell_type": "code",
      "metadata": {
        "deletable": false,
        "editable": false,
        "id": "N6jHujrScRsZ",
        "nbgrader": {
          "cell_type": "code",
          "checksum": "093af0e8e6677cdbd6f1239e2d394513",
          "grade": true,
          "grade_id": "cell-f9c97fbd0846aa11",
          "locked": true,
          "points": 1,
          "schema_version": 3,
          "solution": false,
          "task": false
        },
        "colab": {
          "base_uri": "https://localhost:8080/",
          "height": 202
        },
        "outputId": "68adf14d-5b5a-432c-f31a-a032c36e6e79"
      },
      "source": [
        "# Task 2 - Test\n",
        "\n",
        "assert 'Total_Bathrooms' in house.columns, 'Did you add the new column?'\n",
        "\n",
        "# Hidden tests - you'll see results when you submit to Canvas\n",
        "\n",
        "# View all the bathroom columns\n",
        "house[['Total_Bathrooms','BsmtFullBath','BsmtHalfBath','FullBath','HalfBath']].head()"
      ],
      "execution_count": null,
      "outputs": [
        {
          "output_type": "execute_result",
          "data": {
            "text/html": [
              "<div>\n",
              "<style scoped>\n",
              "    .dataframe tbody tr th:only-of-type {\n",
              "        vertical-align: middle;\n",
              "    }\n",
              "\n",
              "    .dataframe tbody tr th {\n",
              "        vertical-align: top;\n",
              "    }\n",
              "\n",
              "    .dataframe thead th {\n",
              "        text-align: right;\n",
              "    }\n",
              "</style>\n",
              "<table border=\"1\" class=\"dataframe\">\n",
              "  <thead>\n",
              "    <tr style=\"text-align: right;\">\n",
              "      <th></th>\n",
              "      <th>Total_Bathrooms</th>\n",
              "      <th>BsmtFullBath</th>\n",
              "      <th>BsmtHalfBath</th>\n",
              "      <th>FullBath</th>\n",
              "      <th>HalfBath</th>\n",
              "    </tr>\n",
              "  </thead>\n",
              "  <tbody>\n",
              "    <tr>\n",
              "      <th>0</th>\n",
              "      <td>4</td>\n",
              "      <td>1</td>\n",
              "      <td>0</td>\n",
              "      <td>2</td>\n",
              "      <td>1</td>\n",
              "    </tr>\n",
              "    <tr>\n",
              "      <th>1</th>\n",
              "      <td>3</td>\n",
              "      <td>0</td>\n",
              "      <td>1</td>\n",
              "      <td>2</td>\n",
              "      <td>0</td>\n",
              "    </tr>\n",
              "    <tr>\n",
              "      <th>2</th>\n",
              "      <td>4</td>\n",
              "      <td>1</td>\n",
              "      <td>0</td>\n",
              "      <td>2</td>\n",
              "      <td>1</td>\n",
              "    </tr>\n",
              "    <tr>\n",
              "      <th>3</th>\n",
              "      <td>2</td>\n",
              "      <td>1</td>\n",
              "      <td>0</td>\n",
              "      <td>1</td>\n",
              "      <td>0</td>\n",
              "    </tr>\n",
              "    <tr>\n",
              "      <th>4</th>\n",
              "      <td>4</td>\n",
              "      <td>1</td>\n",
              "      <td>0</td>\n",
              "      <td>2</td>\n",
              "      <td>1</td>\n",
              "    </tr>\n",
              "  </tbody>\n",
              "</table>\n",
              "</div>"
            ],
            "text/plain": [
              "   Total_Bathrooms  BsmtFullBath  BsmtHalfBath  FullBath  HalfBath\n",
              "0                4             1             0         2         1\n",
              "1                3             0             1         2         0\n",
              "2                4             1             0         2         1\n",
              "3                2             1             0         1         0\n",
              "4                4             1             0         2         1"
            ]
          },
          "metadata": {
            "tags": []
          },
          "execution_count": 14
        }
      ]
    },
    {
      "cell_type": "markdown",
      "metadata": {
        "id": "s1T9P_I0XJqa"
      },
      "source": [
        "**Task 3** - Create a new feature using encoding\n",
        "\n",
        "Next we're going to create another new column by \"encoding\" an exisitng column. Using the `LotArea` column, we'll assign values according the the area of the lot.\n",
        "\n",
        "* Create a new column called `Large_Lot` that takes on the following values:\n",
        "    * 0 when `LotArea` is **less** than 10,000\n",
        "    * 1 when `LotArea` is **greater than or equal** to 10,000"
      ]
    },
    {
      "cell_type": "code",
      "metadata": {
        "deletable": false,
        "id": "ud09Dy0zreRB",
        "nbgrader": {
          "cell_type": "code",
          "checksum": "2169d6a1299d1df3b06f61755cf8c7fa",
          "grade": false,
          "grade_id": "cell-baf76e10fc75872a",
          "locked": false,
          "schema_version": 3,
          "solution": true,
          "task": false
        },
        "colab": {
          "base_uri": "https://localhost:8080/",
          "height": 202
        },
        "outputId": "1bedbc1d-ca6c-453f-f02e-338daed3a642"
      },
      "source": [
        "# Task 3\n",
        "\n",
        "# YOUR CODE HERE\n",
        "A_lot_of_lots = []\n",
        "\n",
        "for i in house['LotArea']:\n",
        "  if i >= 10000:\n",
        "    A_lot_of_lots.append(1)\n",
        "  else:\n",
        "    A_lot_of_lots.append(0)\n",
        "\n",
        "house['Large_Lot'] = A_lot_of_lots\n",
        "\n",
        "# View the new column\n",
        "house[['LotArea', 'Large_Lot']].head()"
      ],
      "execution_count": null,
      "outputs": [
        {
          "output_type": "execute_result",
          "data": {
            "text/html": [
              "<div>\n",
              "<style scoped>\n",
              "    .dataframe tbody tr th:only-of-type {\n",
              "        vertical-align: middle;\n",
              "    }\n",
              "\n",
              "    .dataframe tbody tr th {\n",
              "        vertical-align: top;\n",
              "    }\n",
              "\n",
              "    .dataframe thead th {\n",
              "        text-align: right;\n",
              "    }\n",
              "</style>\n",
              "<table border=\"1\" class=\"dataframe\">\n",
              "  <thead>\n",
              "    <tr style=\"text-align: right;\">\n",
              "      <th></th>\n",
              "      <th>LotArea</th>\n",
              "      <th>Large_Lot</th>\n",
              "    </tr>\n",
              "  </thead>\n",
              "  <tbody>\n",
              "    <tr>\n",
              "      <th>0</th>\n",
              "      <td>8450</td>\n",
              "      <td>0</td>\n",
              "    </tr>\n",
              "    <tr>\n",
              "      <th>1</th>\n",
              "      <td>9600</td>\n",
              "      <td>0</td>\n",
              "    </tr>\n",
              "    <tr>\n",
              "      <th>2</th>\n",
              "      <td>11250</td>\n",
              "      <td>1</td>\n",
              "    </tr>\n",
              "    <tr>\n",
              "      <th>3</th>\n",
              "      <td>9550</td>\n",
              "      <td>0</td>\n",
              "    </tr>\n",
              "    <tr>\n",
              "      <th>4</th>\n",
              "      <td>14260</td>\n",
              "      <td>1</td>\n",
              "    </tr>\n",
              "  </tbody>\n",
              "</table>\n",
              "</div>"
            ],
            "text/plain": [
              "   LotArea  Large_Lot\n",
              "0     8450          0\n",
              "1     9600          0\n",
              "2    11250          1\n",
              "3     9550          0\n",
              "4    14260          1"
            ]
          },
          "metadata": {
            "tags": []
          },
          "execution_count": 17
        }
      ]
    },
    {
      "cell_type": "markdown",
      "metadata": {
        "id": "vwEhAoH1cRsa"
      },
      "source": [
        "**Task 3 Test**"
      ]
    },
    {
      "cell_type": "code",
      "metadata": {
        "deletable": false,
        "editable": false,
        "id": "8NQ7oBzKcRsa",
        "nbgrader": {
          "cell_type": "code",
          "checksum": "f995a23669cfb8800b807917cea5c6d4",
          "grade": true,
          "grade_id": "cell-dc861d3d6dbf7bec",
          "locked": true,
          "points": 1,
          "schema_version": 3,
          "solution": false,
          "task": false
        }
      },
      "source": [
        "# Task 3 - Test\n",
        "\n",
        "assert 'Large_Lot' in house.columns, 'Did you add the Large_Lot column?'\n",
        "\n",
        "# Hidden tests - you'll see results when you submit to Canvas"
      ],
      "execution_count": null,
      "outputs": []
    },
    {
      "cell_type": "markdown",
      "metadata": {
        "id": "bnh-uoqYN29Q"
      },
      "source": [
        "**Task 4** - Create another feature\n",
        "\n",
        "Let's continue with creating new features. This time, we'll focus on encoding for the sale month.\n",
        "\n",
        "* Create a new column called `Summer_Sale` that takes on the following values:\n",
        "    * 0 if the sale month was in September - May (`ModSold` = 1-5, 9-12)\n",
        "    * 1 if the sale month was in June, July or August (`MoSold` = 6, 7 or 8)"
      ]
    },
    {
      "cell_type": "code",
      "metadata": {
        "deletable": false,
        "id": "3oHxB9JecRsb",
        "nbgrader": {
          "cell_type": "code",
          "checksum": "ea6c24c4077f091262db848c37ccf650",
          "grade": false,
          "grade_id": "cell-077200eae8a405e2",
          "locked": false,
          "schema_version": 3,
          "solution": true,
          "task": false
        },
        "colab": {
          "base_uri": "https://localhost:8080/",
          "height": 416
        },
        "outputId": "6531b75f-66d6-4cef-b368-808c84e10de6"
      },
      "source": [
        "# Task 4\n",
        "\n",
        "# YOUR CODE HERE\n",
        "\n",
        "A_hot_sale = []\n",
        "\n",
        "for i in house['MoSold']:\n",
        "  if i in range(6,9):\n",
        "    A_hot_sale.append(1)\n",
        "  else:\n",
        "    A_hot_sale.append(0)\n",
        "\n",
        "house['Summer_Sale'] = A_hot_sale\n",
        "\n",
        "# View the new column\n",
        "house[['MoSold', 'Summer_Sale']]"
      ],
      "execution_count": null,
      "outputs": [
        {
          "output_type": "execute_result",
          "data": {
            "text/html": [
              "<div>\n",
              "<style scoped>\n",
              "    .dataframe tbody tr th:only-of-type {\n",
              "        vertical-align: middle;\n",
              "    }\n",
              "\n",
              "    .dataframe tbody tr th {\n",
              "        vertical-align: top;\n",
              "    }\n",
              "\n",
              "    .dataframe thead th {\n",
              "        text-align: right;\n",
              "    }\n",
              "</style>\n",
              "<table border=\"1\" class=\"dataframe\">\n",
              "  <thead>\n",
              "    <tr style=\"text-align: right;\">\n",
              "      <th></th>\n",
              "      <th>MoSold</th>\n",
              "      <th>Summer_Sale</th>\n",
              "    </tr>\n",
              "  </thead>\n",
              "  <tbody>\n",
              "    <tr>\n",
              "      <th>0</th>\n",
              "      <td>2</td>\n",
              "      <td>0</td>\n",
              "    </tr>\n",
              "    <tr>\n",
              "      <th>1</th>\n",
              "      <td>5</td>\n",
              "      <td>0</td>\n",
              "    </tr>\n",
              "    <tr>\n",
              "      <th>2</th>\n",
              "      <td>9</td>\n",
              "      <td>0</td>\n",
              "    </tr>\n",
              "    <tr>\n",
              "      <th>3</th>\n",
              "      <td>2</td>\n",
              "      <td>0</td>\n",
              "    </tr>\n",
              "    <tr>\n",
              "      <th>4</th>\n",
              "      <td>12</td>\n",
              "      <td>0</td>\n",
              "    </tr>\n",
              "    <tr>\n",
              "      <th>...</th>\n",
              "      <td>...</td>\n",
              "      <td>...</td>\n",
              "    </tr>\n",
              "    <tr>\n",
              "      <th>1455</th>\n",
              "      <td>8</td>\n",
              "      <td>1</td>\n",
              "    </tr>\n",
              "    <tr>\n",
              "      <th>1456</th>\n",
              "      <td>2</td>\n",
              "      <td>0</td>\n",
              "    </tr>\n",
              "    <tr>\n",
              "      <th>1457</th>\n",
              "      <td>5</td>\n",
              "      <td>0</td>\n",
              "    </tr>\n",
              "    <tr>\n",
              "      <th>1458</th>\n",
              "      <td>4</td>\n",
              "      <td>0</td>\n",
              "    </tr>\n",
              "    <tr>\n",
              "      <th>1459</th>\n",
              "      <td>6</td>\n",
              "      <td>1</td>\n",
              "    </tr>\n",
              "  </tbody>\n",
              "</table>\n",
              "<p>1460 rows × 2 columns</p>\n",
              "</div>"
            ],
            "text/plain": [
              "      MoSold  Summer_Sale\n",
              "0          2            0\n",
              "1          5            0\n",
              "2          9            0\n",
              "3          2            0\n",
              "4         12            0\n",
              "...      ...          ...\n",
              "1455       8            1\n",
              "1456       2            0\n",
              "1457       5            0\n",
              "1458       4            0\n",
              "1459       6            1\n",
              "\n",
              "[1460 rows x 2 columns]"
            ]
          },
          "metadata": {
            "tags": []
          },
          "execution_count": 23
        }
      ]
    },
    {
      "cell_type": "markdown",
      "metadata": {
        "id": "-g9YtACzcRsb"
      },
      "source": [
        "**Task 4 Test**"
      ]
    },
    {
      "cell_type": "code",
      "metadata": {
        "deletable": false,
        "editable": false,
        "id": "WvJbX9WJcRsb",
        "nbgrader": {
          "cell_type": "code",
          "checksum": "f376221e60d262c6ce30a843590c5d46",
          "grade": true,
          "grade_id": "cell-7df13700c084fe99",
          "locked": true,
          "points": 1,
          "schema_version": 3,
          "solution": false,
          "task": false
        }
      },
      "source": [
        "# Task 4 - Test\n",
        "\n",
        "assert 'Summer_Sale' in house.columns, 'Did you add the Summer_Sale column?'\n",
        "\n",
        "# Hidden tests - you'll see results when you submit to Canvas"
      ],
      "execution_count": null,
      "outputs": []
    },
    {
      "cell_type": "markdown",
      "metadata": {
        "id": "B_9CTa2QYcpu"
      },
      "source": [
        "**Task 5**\n",
        "\n",
        "Now we'll revisit the LendingClub data. The statements to import the `loans` DataFrame have been provided for you.  Run the code block below without changing anything to load the `loans` data.\n",
        "\n",
        "* Load the data into a DataFrame called `loans`.\n",
        "* Make sure to view the `loans` DataFrame to see what data we're working with."
      ]
    },
    {
      "cell_type": "code",
      "metadata": {
        "deletable": false,
        "id": "ZlXycTiAcRsc",
        "nbgrader": {
          "cell_type": "code",
          "checksum": "e0d44b4275613a840e87fd51c2afa266",
          "grade": false,
          "grade_id": "cell-a03fb13afedb44b5",
          "locked": false,
          "schema_version": 3,
          "solution": true,
          "task": false
        },
        "colab": {
          "base_uri": "https://localhost:8080/"
        },
        "outputId": "b6477265-fd12-4c01-e23e-125cfb057467"
      },
      "source": [
        "# Task 5\n",
        "\n",
        "# Dataset URL\n",
        "\n",
        "# Dataset URL\n",
        "loans_data = 'https://raw.githubusercontent.com/LambdaSchool/data-science-practice-datasets/main/unit_1/LendingClub/LoanStats_2018Q4_sm.csv'\n",
        "\n",
        "# YOUR CODE HERE\n",
        "\n",
        "loans = pd.read_csv(loans_data)\n",
        "\n",
        "# View the dataset!\n",
        "\n",
        "pd.set_option('display.max_rows', 20)\n",
        "pd.set_option('display.max_columns', 100)\n",
        "print(loans.shape)\n",
        "print(loans.head())"
      ],
      "execution_count": null,
      "outputs": [
        {
          "output_type": "stream",
          "text": [
            "(30000, 144)\n",
            "   id  member_id  loan_amnt  funded_amnt  funded_amnt_inv        term  \\\n",
            "0 NaN        NaN       5525         5525           5525.0   36 months   \n",
            "1 NaN        NaN      10000        10000          10000.0   36 months   \n",
            "2 NaN        NaN      12000        12000          12000.0   60 months   \n",
            "3 NaN        NaN      20000        20000          20000.0   36 months   \n",
            "4 NaN        NaN      12000        12000          12000.0   36 months   \n",
            "\n",
            "  int_rate  installment grade sub_grade       emp_title emp_length  \\\n",
            "0   10.72%       180.15     B        B2         Teacher    3 years   \n",
            "1   10.08%       323.05     B        B1         Manager    7 years   \n",
            "2   10.08%       255.44     B        B1      Supervisor    5 years   \n",
            "3    6.46%       612.62     A        A1    school nurse  10+ years   \n",
            "4    7.02%       370.64     A        A2  Superintendent  10+ years   \n",
            "\n",
            "  home_ownership  annual_inc verification_status   issue_d  loan_status  \\\n",
            "0       MORTGAGE     62035.0            Verified  Dec-2018   Fully Paid   \n",
            "1           RENT     42000.0     Source Verified  Oct-2018   Fully Paid   \n",
            "2       MORTGAGE     60000.0        Not Verified  Oct-2018   Fully Paid   \n",
            "3       MORTGAGE     85000.0            Verified  Nov-2018  Charged Off   \n",
            "4           RENT     65000.0        Not Verified  Dec-2018      Current   \n",
            "\n",
            "  pymnt_plan  url  desc             purpose                    title zip_code  \\\n",
            "0          n  NaN   NaN         credit_card  Credit card refinancing    301xx   \n",
            "1          n  NaN   NaN         credit_card  Credit card refinancing    432xx   \n",
            "2          n  NaN   NaN  debt_consolidation       Debt consolidation    836xx   \n",
            "3          n  NaN   NaN  debt_consolidation       Debt consolidation    891xx   \n",
            "4          n  NaN   NaN  debt_consolidation       Debt consolidation    907xx   \n",
            "\n",
            "  addr_state    dti  delinq_2yrs earliest_cr_line  inq_last_6mths  \\\n",
            "0         GA  26.58            0         Oct-1998               1   \n",
            "1         OH   9.51            0         Sep-2015               2   \n",
            "2         ID  15.55            0         Jun-2003               0   \n",
            "3         NV   5.48            1         Feb-2005               0   \n",
            "4         CA  17.49            0         Feb-2008               0   \n",
            "\n",
            "   mths_since_last_delinq  mths_since_last_record  open_acc  pub_rec  \\\n",
            "0                     NaN                    94.0        14        1   \n",
            "1                     NaN                     NaN         5        0   \n",
            "2                     NaN                     NaN         7        0   \n",
            "3                     9.0                     NaN        20        0   \n",
            "4                     NaN                     NaN         7        0   \n",
            "\n",
            "   revol_bal revol_util  total_acc initial_list_status  out_prncp  \\\n",
            "0       4021      17.9%         21                   w       0.00   \n",
            "1        509       2.7%          6                   w       0.00   \n",
            "2       3768      12.8%         22                   w       0.00   \n",
            "3      13583      20.7%         37                   w       0.00   \n",
            "4       2216      14.1%         12                   w    4282.89   \n",
            "\n",
            "   out_prncp_inv   total_pymnt  total_pymnt_inv  total_rec_prncp  \\\n",
            "0           0.00   6336.700000          6336.70          5525.00   \n",
            "1           0.00  10737.711855         10737.71         10000.00   \n",
            "2           0.00  13097.521940         13097.52         12000.00   \n",
            "3           0.00   7949.700000          7949.70          6780.67   \n",
            "4        4282.89   8888.340000          8888.34          7717.11   \n",
            "\n",
            "   total_rec_int  total_rec_late_fee  recoveries  collection_recovery_fee  \\\n",
            "0         811.70                 0.0         0.0                      0.0   \n",
            "1         737.71                 0.0         0.0                      0.0   \n",
            "2        1097.52                 0.0         0.0                      0.0   \n",
            "3        1169.03                 0.0         0.0                      0.0   \n",
            "4        1171.23                 0.0         0.0                      0.0   \n",
            "\n",
            "  last_pymnt_d  last_pymnt_amnt next_pymnt_d last_credit_pull_d  \\\n",
            "0     Nov-2020          2376.69          NaN           Dec-2020   \n",
            "1     Feb-2020          2861.16          NaN           Dec-2020   \n",
            "2     Sep-2019         10549.84          NaN           Nov-2019   \n",
            "3     Dec-2019           612.62          NaN           Mar-2020   \n",
            "4     Dec-2020           370.64     Jan-2021           Dec-2020   \n",
            "\n",
            "   collections_12_mths_ex_med  ...  num_il_tl  num_op_rev_tl num_rev_accts  \\\n",
            "0                           0  ...         12              7             8   \n",
            "1                           0  ...          2              4             4   \n",
            "2                           0  ...          8              4             9   \n",
            "3                           0  ...          7             19            26   \n",
            "4                           0  ...          5              4             7   \n",
            "\n",
            "   num_rev_tl_bal_gt_0  num_sats num_tl_120dpd_2m  num_tl_30dpd  \\\n",
            "0                    5        14              0.0             0   \n",
            "1                    1         5              0.0             0   \n",
            "2                    2         7              0.0             0   \n",
            "3                    9        20              0.0             0   \n",
            "4                    3         7              0.0             0   \n",
            "\n",
            "   num_tl_90g_dpd_24m  num_tl_op_past_12m  pct_tl_nvr_dlq  percent_bc_gt_75  \\\n",
            "0                   0                   4            90.5               0.0   \n",
            "1                   0                   2           100.0               0.0   \n",
            "2                   0                   0           100.0               0.0   \n",
            "3                   0                   3            97.2               0.0   \n",
            "4                   0                   0           100.0               0.0   \n",
            "\n",
            "   pub_rec_bankruptcies  tax_liens  tot_hi_cred_lim  total_bal_ex_mort  \\\n",
            "0                     1          0           256370              67981   \n",
            "1                     0          0            34941               7739   \n",
            "2                     0          0           252822              18103   \n",
            "3                     0          0           300600              13583   \n",
            "4                     0          0            47448              15597   \n",
            "\n",
            "   total_bc_limit  total_il_high_credit_limit  revol_bal_joint  \\\n",
            "0           16200                       73755              NaN   \n",
            "1           16600                       16241              NaN   \n",
            "2           19500                       25412              NaN   \n",
            "3           49500                           0          28852.0   \n",
            "4            7100                       31748              NaN   \n",
            "\n",
            "   sec_app_earliest_cr_line  sec_app_inq_last_6mths  sec_app_mort_acc  \\\n",
            "0                       NaN                     NaN               NaN   \n",
            "1                       NaN                     NaN               NaN   \n",
            "2                       NaN                     NaN               NaN   \n",
            "3                  Jul-2014                     0.0               0.0   \n",
            "4                       NaN                     NaN               NaN   \n",
            "\n",
            "   sec_app_open_acc  sec_app_revol_util  sec_app_open_act_il  \\\n",
            "0               NaN                 NaN                  NaN   \n",
            "1               NaN                 NaN                  NaN   \n",
            "2               NaN                 NaN                  NaN   \n",
            "3               9.0                47.0                  1.0   \n",
            "4               NaN                 NaN                  NaN   \n",
            "\n",
            "   sec_app_num_rev_accts  sec_app_chargeoff_within_12_mths  \\\n",
            "0                    NaN                               NaN   \n",
            "1                    NaN                               NaN   \n",
            "2                    NaN                               NaN   \n",
            "3                    8.0                               0.0   \n",
            "4                    NaN                               NaN   \n",
            "\n",
            "   sec_app_collections_12_mths_ex_med  sec_app_mths_since_last_major_derog  \\\n",
            "0                                 NaN                                  NaN   \n",
            "1                                 NaN                                  NaN   \n",
            "2                                 NaN                                  NaN   \n",
            "3                                 0.0                                  NaN   \n",
            "4                                 NaN                                  NaN   \n",
            "\n",
            "   hardship_flag  hardship_type  hardship_reason  hardship_status  \\\n",
            "0              N            NaN              NaN              NaN   \n",
            "1              N            NaN              NaN              NaN   \n",
            "2              N            NaN              NaN              NaN   \n",
            "3              N            NaN              NaN              NaN   \n",
            "4              N            NaN              NaN              NaN   \n",
            "\n",
            "   deferral_term  hardship_amount  hardship_start_date  hardship_end_date  \\\n",
            "0            NaN              NaN                  NaN                NaN   \n",
            "1            NaN              NaN                  NaN                NaN   \n",
            "2            NaN              NaN                  NaN                NaN   \n",
            "3            NaN              NaN                  NaN                NaN   \n",
            "4            NaN              NaN                  NaN                NaN   \n",
            "\n",
            "   payment_plan_start_date  hardship_length  hardship_dpd  \\\n",
            "0                      NaN              NaN           NaN   \n",
            "1                      NaN              NaN           NaN   \n",
            "2                      NaN              NaN           NaN   \n",
            "3                      NaN              NaN           NaN   \n",
            "4                      NaN              NaN           NaN   \n",
            "\n",
            "   hardship_loan_status  orig_projected_additional_accrued_interest  \\\n",
            "0                   NaN                                         NaN   \n",
            "1                   NaN                                         NaN   \n",
            "2                   NaN                                         NaN   \n",
            "3                   NaN                                         NaN   \n",
            "4                   NaN                                         NaN   \n",
            "\n",
            "   hardship_payoff_balance_amount  hardship_last_payment_amount  \\\n",
            "0                             NaN                           NaN   \n",
            "1                             NaN                           NaN   \n",
            "2                             NaN                           NaN   \n",
            "3                             NaN                           NaN   \n",
            "4                             NaN                           NaN   \n",
            "\n",
            "   debt_settlement_flag  debt_settlement_flag_date  settlement_status  \\\n",
            "0                     N                        NaN                NaN   \n",
            "1                     N                        NaN                NaN   \n",
            "2                     N                        NaN                NaN   \n",
            "3                     N                        NaN                NaN   \n",
            "4                     N                        NaN                NaN   \n",
            "\n",
            "   settlement_date  settlement_amount  settlement_percentage  settlement_term  \n",
            "0              NaN                NaN                    NaN              NaN  \n",
            "1              NaN                NaN                    NaN              NaN  \n",
            "2              NaN                NaN                    NaN              NaN  \n",
            "3              NaN                NaN                    NaN              NaN  \n",
            "4              NaN                NaN                    NaN              NaN  \n",
            "\n",
            "[5 rows x 144 columns]\n"
          ],
          "name": "stdout"
        }
      ]
    },
    {
      "cell_type": "markdown",
      "metadata": {
        "id": "sQnzQAZrcRsc"
      },
      "source": [
        "**Tast 5 Test**"
      ]
    },
    {
      "cell_type": "code",
      "metadata": {
        "deletable": false,
        "editable": false,
        "id": "kMyyAyAZcRsc",
        "nbgrader": {
          "cell_type": "code",
          "checksum": "8778b4b25a3faf54fc16085292c5f93f",
          "grade": true,
          "grade_id": "cell-365203eb4c6651fd",
          "locked": true,
          "points": 1,
          "schema_version": 3,
          "solution": false,
          "task": false
        }
      },
      "source": [
        "# Task 5 - Test\n",
        "\n",
        "assert isinstance(loans, pd.DataFrame), 'Have you created a DataFrame named loans?'\n",
        "assert loans.shape == (30000, 144), 'Double check your DataFrame size.'\n",
        "\n",
        "# NO hidden tests for this task"
      ],
      "execution_count": null,
      "outputs": []
    },
    {
      "cell_type": "markdown",
      "metadata": {
        "id": "qnT_KD-MhLfg"
      },
      "source": [
        "**Introduction** - Approaching a problem two different ways.\n",
        "\n",
        "In the Guided Project, we learned how to find the earliest credit year using the built-in date-time format.  However, there is often more than one way to come up with the same solution.  \n",
        "\n",
        "In the following questions, we will work through the steps to create new variables called `Earliest_Credit_Year` and `issue_year` where we use the `.split()` function to split on the month and year in a string variable, and return just the year value. We can then use those variables to calculate the length of credit history in years.  \n",
        "\n",
        "If we do everything correctly, we should calculate *about* the same length of longest credit history that we did in class working with the date-time format.  The answers won't exactly match because we are making different assumptions about when in each month and year the loans were taken out, but it will give you a flavor for different ways of approaching the same problem."
      ]
    },
    {
      "cell_type": "markdown",
      "metadata": {
        "id": "Lx0kHSTFhoKj"
      },
      "source": [
        "**Task 6** - Create a simple test case\n",
        "\n",
        "The `credit` variable has been created for you with the value 'Jun-1979'\n",
        "\n",
        "* Use the `.split('-')` function to separate the month and year parts of the data.\n",
        "* Name the results of the .split('-') function `fields`: \n",
        "    * assign `fields[0]` to the variable `month`\n",
        "    * assign `fields[1]` to the variable `year`"
      ]
    },
    {
      "cell_type": "code",
      "metadata": {
        "deletable": false,
        "id": "y80jf99GaKsL",
        "nbgrader": {
          "cell_type": "code",
          "checksum": "f119acd233e67660a97cac257a43f19b",
          "grade": false,
          "grade_id": "cell-2e0e85d026ef0577",
          "locked": false,
          "schema_version": 3,
          "solution": true,
          "task": false
        },
        "colab": {
          "base_uri": "https://localhost:8080/"
        },
        "outputId": "823335cb-6f3b-4db2-ce1f-d2eae8d56e5a"
      },
      "source": [
        "# Task 6\n",
        "\n",
        "# Don't change or delete\n",
        "credit = 'Jun-1979' \n",
        "\n",
        "# YOUR CODE HERE\n",
        "\n",
        "month = credit.split('-')[0]\n",
        "\n",
        "year = credit.split('-')[1]\n",
        "\n",
        "# Look at the year variable both as a string and as a float\n",
        "print('String: ', year)\n",
        "print('Float: ', float(year))"
      ],
      "execution_count": null,
      "outputs": [
        {
          "output_type": "stream",
          "text": [
            "String:  1979\n",
            "Float:  1979.0\n"
          ],
          "name": "stdout"
        }
      ]
    },
    {
      "cell_type": "markdown",
      "metadata": {
        "id": "hScLOlxAcRse"
      },
      "source": [
        "**Task 6 Test**"
      ]
    },
    {
      "cell_type": "code",
      "metadata": {
        "deletable": false,
        "editable": false,
        "id": "VkMqAQcCcRse",
        "nbgrader": {
          "cell_type": "code",
          "checksum": "5fbe2cfd02715641fbf21a4b319a9b16",
          "grade": true,
          "grade_id": "cell-95ad43446cc5faaa",
          "locked": true,
          "points": 1,
          "schema_version": 3,
          "solution": false,
          "task": false
        }
      },
      "source": [
        "# Task 6 - Test\n",
        "\n",
        "# Hidden tests - you'll see results when you submit to Canvas"
      ],
      "execution_count": null,
      "outputs": []
    },
    {
      "cell_type": "markdown",
      "metadata": {
        "id": "TtC6exPui9y4"
      },
      "source": [
        "**Task 7** - Create a function\n",
        "\n",
        "Use your answer from **Task 6** to write a function called `credit_yr` that takes in the contents of a cell that is formatted as \"month-year\" and returns the year.\n",
        "\n",
        "* Complete the definition of the function `credit_yr` below:\n",
        "    * one argument `cell_contents` as input (provided for you)\n",
        "    * splits the `cell_content` on a `-` and calls the result `fields`\n",
        "    * creates the variable `year` which has the value `fields[1]`\n",
        "    * returns `year` as a float variable\n",
        "* Run your function using the simple test case in Task 6 (`credit='Jun-1979'`). Assign the output of the function to the variable `year_function`."
      ]
    },
    {
      "cell_type": "code",
      "metadata": {
        "deletable": false,
        "id": "dtF2-tjogC6J",
        "nbgrader": {
          "cell_type": "code",
          "checksum": "9d5cceb4eb91cd83d0eb1ad0310bdc0e",
          "grade": false,
          "grade_id": "cell-67705c48e95b83db",
          "locked": false,
          "schema_version": 3,
          "solution": true,
          "task": false
        },
        "colab": {
          "base_uri": "https://localhost:8080/"
        },
        "outputId": "9f91ce2b-6c2f-4803-d35a-131e5f8f8b1b"
      },
      "source": [
        "# Task 7\n",
        "\n",
        "# Complete the function definition\n",
        "\n",
        "# YOUR CODE HERE\n",
        "\n",
        "def credit_yr(cell_contents):\n",
        "  '''\n",
        "  This function takes one argument, and splits the string at the - and outputs the result to the fields variable. The function then takes the [1] (second) string and saves it to the year variable. The function's last line is turning the output of year into a float. \n",
        "  '''\n",
        "  fields = cell_contents.split('-')\n",
        "  year = fields[1]\n",
        "  return float(year)  \n",
        "\n",
        "year_function = credit_yr(credit)\n",
        "\n",
        "# Print your year_function variable\n",
        "year_function"
      ],
      "execution_count": null,
      "outputs": [
        {
          "output_type": "execute_result",
          "data": {
            "text/plain": [
              "1979.0"
            ]
          },
          "metadata": {
            "tags": []
          },
          "execution_count": 7
        }
      ]
    },
    {
      "cell_type": "markdown",
      "metadata": {
        "id": "-bQ0sYPVcRsf"
      },
      "source": [
        "**Task 7 Test**"
      ]
    },
    {
      "cell_type": "code",
      "metadata": {
        "deletable": false,
        "editable": false,
        "id": "nea_V08lcRsf",
        "nbgrader": {
          "cell_type": "code",
          "checksum": "c0208e15b36760d1a1d0d0ea94bacda0",
          "grade": true,
          "grade_id": "cell-e850dcb0651cdf47",
          "locked": true,
          "points": 1,
          "schema_version": 3,
          "solution": false,
          "task": false
        }
      },
      "source": [
        "# Task 7 - Test\n",
        "\n",
        "assert isinstance(year_function, float), 'Make sure your year variable is a float!'\n",
        "\n",
        "# Hidden tests - you'll see results when you submit to Canvas"
      ],
      "execution_count": null,
      "outputs": []
    },
    {
      "cell_type": "markdown",
      "metadata": {
        "id": "a1XVfTOIjfrW"
      },
      "source": [
        "**Task 8** - Apply our function\n",
        "\n",
        "Now we're going to use the function we created and apply it to a column in our `loans` DataFrame. \n",
        "\n",
        "* Use the `.apply()` function to apply the function to every cell in the `earliest_cr_line` column.\n",
        "* Assign the results to a new column called `Earliest_Credit_Year`.\n",
        "* View the top five rows of the `Earliest_Credit_Year` and `earliest_cr_line` columns to make sure the variables were created correctly (code provided for you)."
      ]
    },
    {
      "cell_type": "code",
      "metadata": {
        "deletable": false,
        "id": "lZhlULhykCB_",
        "nbgrader": {
          "cell_type": "code",
          "checksum": "06a8503a192be83061e085a9462c9faf",
          "grade": false,
          "grade_id": "cell-190721b22d999b13",
          "locked": false,
          "schema_version": 3,
          "solution": true,
          "task": false
        },
        "colab": {
          "base_uri": "https://localhost:8080/",
          "height": 416
        },
        "outputId": "0169862f-b4be-4708-b079-7945ffa581c8"
      },
      "source": [
        "# Task 8\n",
        "\n",
        "loans = loans.copy()\n",
        "\n",
        "# YOUR CODE HERE\n",
        "\n",
        "loans['Earliest_Credit_Year'] = loans['earliest_cr_line'].apply(credit_yr)\n",
        "\n",
        "# # Print your columns\n",
        "loans[['Earliest_Credit_Year','earliest_cr_line']]"
      ],
      "execution_count": null,
      "outputs": [
        {
          "output_type": "execute_result",
          "data": {
            "text/html": [
              "<div>\n",
              "<style scoped>\n",
              "    .dataframe tbody tr th:only-of-type {\n",
              "        vertical-align: middle;\n",
              "    }\n",
              "\n",
              "    .dataframe tbody tr th {\n",
              "        vertical-align: top;\n",
              "    }\n",
              "\n",
              "    .dataframe thead th {\n",
              "        text-align: right;\n",
              "    }\n",
              "</style>\n",
              "<table border=\"1\" class=\"dataframe\">\n",
              "  <thead>\n",
              "    <tr style=\"text-align: right;\">\n",
              "      <th></th>\n",
              "      <th>Earliest_Credit_Year</th>\n",
              "      <th>earliest_cr_line</th>\n",
              "    </tr>\n",
              "  </thead>\n",
              "  <tbody>\n",
              "    <tr>\n",
              "      <th>0</th>\n",
              "      <td>1998.0</td>\n",
              "      <td>Oct-1998</td>\n",
              "    </tr>\n",
              "    <tr>\n",
              "      <th>1</th>\n",
              "      <td>2015.0</td>\n",
              "      <td>Sep-2015</td>\n",
              "    </tr>\n",
              "    <tr>\n",
              "      <th>2</th>\n",
              "      <td>2003.0</td>\n",
              "      <td>Jun-2003</td>\n",
              "    </tr>\n",
              "    <tr>\n",
              "      <th>3</th>\n",
              "      <td>2005.0</td>\n",
              "      <td>Feb-2005</td>\n",
              "    </tr>\n",
              "    <tr>\n",
              "      <th>4</th>\n",
              "      <td>2008.0</td>\n",
              "      <td>Feb-2008</td>\n",
              "    </tr>\n",
              "    <tr>\n",
              "      <th>...</th>\n",
              "      <td>...</td>\n",
              "      <td>...</td>\n",
              "    </tr>\n",
              "    <tr>\n",
              "      <th>29995</th>\n",
              "      <td>2000.0</td>\n",
              "      <td>Jan-2000</td>\n",
              "    </tr>\n",
              "    <tr>\n",
              "      <th>29996</th>\n",
              "      <td>1985.0</td>\n",
              "      <td>Sep-1985</td>\n",
              "    </tr>\n",
              "    <tr>\n",
              "      <th>29997</th>\n",
              "      <td>2007.0</td>\n",
              "      <td>Dec-2007</td>\n",
              "    </tr>\n",
              "    <tr>\n",
              "      <th>29998</th>\n",
              "      <td>2008.0</td>\n",
              "      <td>Apr-2008</td>\n",
              "    </tr>\n",
              "    <tr>\n",
              "      <th>29999</th>\n",
              "      <td>1991.0</td>\n",
              "      <td>Apr-1991</td>\n",
              "    </tr>\n",
              "  </tbody>\n",
              "</table>\n",
              "<p>30000 rows × 2 columns</p>\n",
              "</div>"
            ],
            "text/plain": [
              "       Earliest_Credit_Year earliest_cr_line\n",
              "0                    1998.0         Oct-1998\n",
              "1                    2015.0         Sep-2015\n",
              "2                    2003.0         Jun-2003\n",
              "3                    2005.0         Feb-2005\n",
              "4                    2008.0         Feb-2008\n",
              "...                     ...              ...\n",
              "29995                2000.0         Jan-2000\n",
              "29996                1985.0         Sep-1985\n",
              "29997                2007.0         Dec-2007\n",
              "29998                2008.0         Apr-2008\n",
              "29999                1991.0         Apr-1991\n",
              "\n",
              "[30000 rows x 2 columns]"
            ]
          },
          "metadata": {
            "tags": []
          },
          "execution_count": 9
        }
      ]
    },
    {
      "cell_type": "markdown",
      "metadata": {
        "id": "KW3dvjORcRsg"
      },
      "source": [
        "**Task 8 Test**"
      ]
    },
    {
      "cell_type": "code",
      "metadata": {
        "deletable": false,
        "editable": false,
        "id": "sBJQDUJxcRsg",
        "nbgrader": {
          "cell_type": "code",
          "checksum": "5922454ea6c43cbed0d38b36295f006c",
          "grade": true,
          "grade_id": "cell-1c6181c54ca22ae6",
          "locked": true,
          "points": 1,
          "schema_version": 3,
          "solution": false,
          "task": false
        }
      },
      "source": [
        "# Task 8 - Test\n",
        "\n",
        "assert 'Earliest_Credit_Year' in loans.columns, 'Did you add the \"Earliest_Credit_Year\" column?'\n",
        "assert loans.shape == (30000, 145), 'Double check your DataFrame size.'\n",
        "\n",
        "# Hidden tests - you'll see results when you submit to Canvas"
      ],
      "execution_count": null,
      "outputs": []
    },
    {
      "cell_type": "markdown",
      "metadata": {
        "id": "w5vb0vQjg3Sj"
      },
      "source": [
        "**Task 9** - Apply the function to a new column\n",
        "\n",
        "So next, we're going to use the `credit_yr` function to create a new variable called `Issue_Year` from the `issue_d` variable. Follow the sames steps as you did in Task 8.\n",
        "\n",
        "* Apply `credit_yr` to the `issue_d` column.\n",
        "* Name your new column `Issue_Year`.\n",
        "* View the `Issue_Year`,`issue_d` columns (code provided for you)."
      ]
    },
    {
      "cell_type": "code",
      "metadata": {
        "deletable": false,
        "id": "5sIn85mbg1pw",
        "nbgrader": {
          "cell_type": "code",
          "checksum": "203c38c6d3020749d9460f27b3d73f2e",
          "grade": false,
          "grade_id": "cell-b31b3dfe0d069095",
          "locked": false,
          "schema_version": 3,
          "solution": true,
          "task": false
        },
        "colab": {
          "base_uri": "https://localhost:8080/",
          "height": 202
        },
        "outputId": "e7926f84-65a2-415f-d00f-506a47a9b801"
      },
      "source": [
        "# Task 9\n",
        "\n",
        "# YOUR CODE HERE\n",
        "loans['Issue_Year'] = loans['issue_d'].apply(credit_yr)\n",
        "\n",
        "# Print your columns\n",
        "loans[['Issue_Year','issue_d']].head()"
      ],
      "execution_count": null,
      "outputs": [
        {
          "output_type": "execute_result",
          "data": {
            "text/html": [
              "<div>\n",
              "<style scoped>\n",
              "    .dataframe tbody tr th:only-of-type {\n",
              "        vertical-align: middle;\n",
              "    }\n",
              "\n",
              "    .dataframe tbody tr th {\n",
              "        vertical-align: top;\n",
              "    }\n",
              "\n",
              "    .dataframe thead th {\n",
              "        text-align: right;\n",
              "    }\n",
              "</style>\n",
              "<table border=\"1\" class=\"dataframe\">\n",
              "  <thead>\n",
              "    <tr style=\"text-align: right;\">\n",
              "      <th></th>\n",
              "      <th>Issue_Year</th>\n",
              "      <th>issue_d</th>\n",
              "    </tr>\n",
              "  </thead>\n",
              "  <tbody>\n",
              "    <tr>\n",
              "      <th>0</th>\n",
              "      <td>2018.0</td>\n",
              "      <td>Dec-2018</td>\n",
              "    </tr>\n",
              "    <tr>\n",
              "      <th>1</th>\n",
              "      <td>2018.0</td>\n",
              "      <td>Oct-2018</td>\n",
              "    </tr>\n",
              "    <tr>\n",
              "      <th>2</th>\n",
              "      <td>2018.0</td>\n",
              "      <td>Oct-2018</td>\n",
              "    </tr>\n",
              "    <tr>\n",
              "      <th>3</th>\n",
              "      <td>2018.0</td>\n",
              "      <td>Nov-2018</td>\n",
              "    </tr>\n",
              "    <tr>\n",
              "      <th>4</th>\n",
              "      <td>2018.0</td>\n",
              "      <td>Dec-2018</td>\n",
              "    </tr>\n",
              "  </tbody>\n",
              "</table>\n",
              "</div>"
            ],
            "text/plain": [
              "   Issue_Year   issue_d\n",
              "0      2018.0  Dec-2018\n",
              "1      2018.0  Oct-2018\n",
              "2      2018.0  Oct-2018\n",
              "3      2018.0  Nov-2018\n",
              "4      2018.0  Dec-2018"
            ]
          },
          "metadata": {
            "tags": []
          },
          "execution_count": 322
        }
      ]
    },
    {
      "cell_type": "markdown",
      "metadata": {
        "id": "Oa__5NeAcRsg"
      },
      "source": [
        "**Task 9**"
      ]
    },
    {
      "cell_type": "code",
      "metadata": {
        "deletable": false,
        "editable": false,
        "id": "hLdmvYJqcRsh",
        "nbgrader": {
          "cell_type": "code",
          "checksum": "d4c482e283b26971356d81e800bb2198",
          "grade": true,
          "grade_id": "cell-1ae1a8aef5f84b70",
          "locked": true,
          "points": 1,
          "schema_version": 3,
          "solution": false,
          "task": false
        }
      },
      "source": [
        "# Task 9 - Test\n",
        "\n",
        "assert 'Issue_Year' in loans.columns, 'Did you add the \"Issue_Year\" column?'\n",
        "assert loans.shape == (30000, 146), 'Double check your DataFrame size.'\n",
        "\n",
        "# Hidden tests - you'll see results when you submit to Canvas"
      ],
      "execution_count": null,
      "outputs": []
    },
    {
      "cell_type": "markdown",
      "metadata": {
        "id": "iZItgQjQiCh9"
      },
      "source": [
        "**Task 10** - Calculate length of time from your new columns\n",
        "\n",
        "Now we're going to use the two new columns you created to calculate the length of credit history in years and in days.\n",
        "\n",
        "* Create a new column called `Credit_History_Years` which is the difference between `Issue_Year` and `Earliest_Credit_Year`\n",
        "* Create another new column called `Credit_History_Days` which is the value in the column you created above expect multipled by 365.25 to convert years to days.\n",
        "* View the top five rows of the `loans` DataFrame (code has been provided).\n",
        "\n",
        "Hint: If you are getting an error message, make sure to check the data type of the `year` values output by your function."
      ]
    },
    {
      "cell_type": "code",
      "metadata": {
        "deletable": false,
        "id": "0mT7pG9hiTf2",
        "nbgrader": {
          "cell_type": "code",
          "checksum": "024db84343a316dbc1c3ae0cb48307c3",
          "grade": false,
          "grade_id": "cell-2f411113665bb37a",
          "locked": false,
          "schema_version": 3,
          "solution": true,
          "task": false
        },
        "colab": {
          "base_uri": "https://localhost:8080/",
          "height": 416
        },
        "outputId": "328df256-330f-4206-d201-6a4354d54400"
      },
      "source": [
        "# Task 10\n",
        "\n",
        "# YOUR CODE HERE\n",
        "\n",
        "loans['Credit_History_Years'] = loans['Issue_Year'] - loans['Earliest_Credit_Year'] \n",
        "\n",
        "loans['Credit_History_Days'] = loans['Credit_History_Years'] * 365.25\n",
        "\n",
        "loans[['Issue_Year','Earliest_Credit_Year','Credit_History_Years','Credit_History_Days']].head(25)\n"
      ],
      "execution_count": null,
      "outputs": [
        {
          "output_type": "execute_result",
          "data": {
            "text/html": [
              "<div>\n",
              "<style scoped>\n",
              "    .dataframe tbody tr th:only-of-type {\n",
              "        vertical-align: middle;\n",
              "    }\n",
              "\n",
              "    .dataframe tbody tr th {\n",
              "        vertical-align: top;\n",
              "    }\n",
              "\n",
              "    .dataframe thead th {\n",
              "        text-align: right;\n",
              "    }\n",
              "</style>\n",
              "<table border=\"1\" class=\"dataframe\">\n",
              "  <thead>\n",
              "    <tr style=\"text-align: right;\">\n",
              "      <th></th>\n",
              "      <th>Issue_Year</th>\n",
              "      <th>Earliest_Credit_Year</th>\n",
              "      <th>Credit_History_Years</th>\n",
              "      <th>Credit_History_Days</th>\n",
              "    </tr>\n",
              "  </thead>\n",
              "  <tbody>\n",
              "    <tr>\n",
              "      <th>0</th>\n",
              "      <td>2018.0</td>\n",
              "      <td>1998.0</td>\n",
              "      <td>20.0</td>\n",
              "      <td>0.054795</td>\n",
              "    </tr>\n",
              "    <tr>\n",
              "      <th>1</th>\n",
              "      <td>2018.0</td>\n",
              "      <td>2015.0</td>\n",
              "      <td>3.0</td>\n",
              "      <td>0.008219</td>\n",
              "    </tr>\n",
              "    <tr>\n",
              "      <th>2</th>\n",
              "      <td>2018.0</td>\n",
              "      <td>2003.0</td>\n",
              "      <td>15.0</td>\n",
              "      <td>0.041096</td>\n",
              "    </tr>\n",
              "    <tr>\n",
              "      <th>3</th>\n",
              "      <td>2018.0</td>\n",
              "      <td>2005.0</td>\n",
              "      <td>13.0</td>\n",
              "      <td>0.035616</td>\n",
              "    </tr>\n",
              "    <tr>\n",
              "      <th>4</th>\n",
              "      <td>2018.0</td>\n",
              "      <td>2008.0</td>\n",
              "      <td>10.0</td>\n",
              "      <td>0.027397</td>\n",
              "    </tr>\n",
              "    <tr>\n",
              "      <th>...</th>\n",
              "      <td>...</td>\n",
              "      <td>...</td>\n",
              "      <td>...</td>\n",
              "      <td>...</td>\n",
              "    </tr>\n",
              "    <tr>\n",
              "      <th>20</th>\n",
              "      <td>2018.0</td>\n",
              "      <td>2008.0</td>\n",
              "      <td>10.0</td>\n",
              "      <td>0.027397</td>\n",
              "    </tr>\n",
              "    <tr>\n",
              "      <th>21</th>\n",
              "      <td>2018.0</td>\n",
              "      <td>2001.0</td>\n",
              "      <td>17.0</td>\n",
              "      <td>0.046575</td>\n",
              "    </tr>\n",
              "    <tr>\n",
              "      <th>22</th>\n",
              "      <td>2018.0</td>\n",
              "      <td>2005.0</td>\n",
              "      <td>13.0</td>\n",
              "      <td>0.035616</td>\n",
              "    </tr>\n",
              "    <tr>\n",
              "      <th>23</th>\n",
              "      <td>2018.0</td>\n",
              "      <td>2000.0</td>\n",
              "      <td>18.0</td>\n",
              "      <td>0.049315</td>\n",
              "    </tr>\n",
              "    <tr>\n",
              "      <th>24</th>\n",
              "      <td>2018.0</td>\n",
              "      <td>1993.0</td>\n",
              "      <td>25.0</td>\n",
              "      <td>0.068493</td>\n",
              "    </tr>\n",
              "  </tbody>\n",
              "</table>\n",
              "<p>25 rows × 4 columns</p>\n",
              "</div>"
            ],
            "text/plain": [
              "    Issue_Year  Earliest_Credit_Year  Credit_History_Years  \\\n",
              "0       2018.0                1998.0                  20.0   \n",
              "1       2018.0                2015.0                   3.0   \n",
              "2       2018.0                2003.0                  15.0   \n",
              "3       2018.0                2005.0                  13.0   \n",
              "4       2018.0                2008.0                  10.0   \n",
              "..         ...                   ...                   ...   \n",
              "20      2018.0                2008.0                  10.0   \n",
              "21      2018.0                2001.0                  17.0   \n",
              "22      2018.0                2005.0                  13.0   \n",
              "23      2018.0                2000.0                  18.0   \n",
              "24      2018.0                1993.0                  25.0   \n",
              "\n",
              "    Credit_History_Days  \n",
              "0              0.054795  \n",
              "1              0.008219  \n",
              "2              0.041096  \n",
              "3              0.035616  \n",
              "4              0.027397  \n",
              "..                  ...  \n",
              "20             0.027397  \n",
              "21             0.046575  \n",
              "22             0.035616  \n",
              "23             0.049315  \n",
              "24             0.068493  \n",
              "\n",
              "[25 rows x 4 columns]"
            ]
          },
          "metadata": {
            "tags": []
          },
          "execution_count": 329
        }
      ]
    },
    {
      "cell_type": "markdown",
      "metadata": {
        "id": "RZ-9Qih6cRsh"
      },
      "source": [
        "**Task 10 Test**"
      ]
    },
    {
      "cell_type": "code",
      "metadata": {
        "deletable": false,
        "editable": false,
        "id": "sd5cWJ7BcRsh",
        "nbgrader": {
          "cell_type": "code",
          "checksum": "7d1deccb8585b3635ebbcd6a50f887df",
          "grade": true,
          "grade_id": "cell-e3694613b297ae85",
          "locked": true,
          "points": 1,
          "schema_version": 3,
          "solution": false,
          "task": false
        }
      },
      "source": [
        "# Task 10 - Test\n",
        "\n",
        "assert 'Credit_History_Years' in loans.columns, 'Did you add the correct column?'\n",
        "assert 'Credit_History_Days' in loans.columns, 'Did you add the correct column converted to days?'\n",
        "assert loans.shape == (30000, 148), 'Double check your DataFrame size.'\n",
        "\n",
        "# Hidden tests - you'll see results when you submit to Canvas"
      ],
      "execution_count": null,
      "outputs": []
    },
    {
      "cell_type": "markdown",
      "metadata": {
        "id": "PvcOSw9gjUzF"
      },
      "source": [
        "**Task 11** - Calculate the maximum credit length\n",
        "\n",
        "Finally, we're going to use results from the `Credit_History_Years` column and compare it to we got in the Guided Project.\n",
        "\n",
        "* Find the maximum values in the `Credit_History_Years` column and assign it to the variable `max_credit`. Make sure you have a float value defined out to one decimal place.\n",
        "* Compare the the value from the Guided Project (refer to your notebook from class).\n",
        "\n",
        "Note - it won't be *exactly* the same because both methods are working in different ways, but they will give you a \"pretty close\" answer."
      ]
    },
    {
      "cell_type": "code",
      "metadata": {
        "deletable": false,
        "id": "gmNFZzaQjdQi",
        "nbgrader": {
          "cell_type": "code",
          "checksum": "18f87705debb5f4d4c75be2159796925",
          "grade": false,
          "grade_id": "cell-421ef18e66bbaab0",
          "locked": false,
          "schema_version": 3,
          "solution": true,
          "task": false
        },
        "colab": {
          "base_uri": "https://localhost:8080/"
        },
        "outputId": "46928a8a-a781-4b05-c110-0be1ea605aee"
      },
      "source": [
        "# Task 11\n",
        "\n",
        "# YOUR CODE HERE\n",
        "\n",
        "max_credit = loans['Credit_History_Years'].max()\n"
      ],
      "execution_count": null,
      "outputs": [
        {
          "output_type": "stream",
          "text": [
            "68.0\n"
          ],
          "name": "stdout"
        }
      ]
    },
    {
      "cell_type": "markdown",
      "metadata": {
        "id": "8v7nvfJHcRsi"
      },
      "source": [
        "**Task 11 Test**"
      ]
    },
    {
      "cell_type": "code",
      "metadata": {
        "deletable": false,
        "editable": false,
        "id": "HtINJWibcRsi",
        "nbgrader": {
          "cell_type": "code",
          "checksum": "6c136ce5c21a864d092273a0ae080725",
          "grade": true,
          "grade_id": "cell-b39de9ca5d93a343",
          "locked": true,
          "points": 1,
          "schema_version": 3,
          "solution": false,
          "task": false
        }
      },
      "source": [
        "# Task 11 - Test\n",
        "\n",
        "# Hidden tests - you'll see results when you submit to Canvas\n"
      ],
      "execution_count": null,
      "outputs": []
    }
  ]
}